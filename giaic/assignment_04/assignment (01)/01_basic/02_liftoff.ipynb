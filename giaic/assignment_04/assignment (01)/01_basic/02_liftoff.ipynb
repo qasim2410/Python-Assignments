{
 "cells": [
  {
   "cell_type": "raw",
   "id": "a52618f6-7d87-46f8-8c1f-5ad14eee1240",
   "metadata": {},
   "source": [
    "Write a program that prints out the calls for a spaceship that is about to launch. Countdown from 10 to 1 and then output Liftoff!\n",
    "\n",
    "Here's a sample run of the program:\n",
    "\n",
    "10 9 8 7 6 5 4 3 2 1 Liftoff!\n",
    "\n",
    "There are many ways to solve this problem. One approach is to use a for loop, and to use the for loop variable i. Recall that i will keep track of how many times the for loop has completed executing its body. As an example this code:\n",
    "\n",
    "for i in range(10): print(i)\n",
    "\n",
    "Will print out the values 0, 1, 2, 3, 4, 5, 6, 7, 8, 9. The values printed in liftoff are 10 minus the number of times the for loop has completed."
   ]
  },
  {
   "cell_type": "code",
   "execution_count": 1,
   "id": "eb707e08-3535-4b23-9db7-5a4683d42ace",
   "metadata": {},
   "outputs": [
    {
     "name": "stdout",
     "output_type": "stream",
     "text": [
      "10 9 8 7 6 5 4 3 2 1 Liftoff!\n"
     ]
    }
   ],
   "source": [
    "# Countdown from 10 to 1 and then print Liftoff!\n",
    "for i in range(10, 0, -1):\n",
    "    print(i, end=\" \")  # Print each number followed by a space\n",
    "print(\"Liftoff!\")  # Print Liftoff! after the countdown"
   ]
  },
  {
   "cell_type": "code",
   "execution_count": null,
   "id": "4b2858e5-ece4-495f-9d89-c0f974261e71",
   "metadata": {},
   "outputs": [],
   "source": []
  }
 ],
 "metadata": {
  "kernelspec": {
   "display_name": "Python 3 (ipykernel)",
   "language": "python",
   "name": "python3"
  },
  "language_info": {
   "codemirror_mode": {
    "name": "ipython",
    "version": 3
   },
   "file_extension": ".py",
   "mimetype": "text/x-python",
   "name": "python",
   "nbconvert_exporter": "python",
   "pygments_lexer": "ipython3",
   "version": "3.12.7"
  }
 },
 "nbformat": 4,
 "nbformat_minor": 5
}
