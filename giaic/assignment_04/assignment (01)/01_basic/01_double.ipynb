{
 "cells": [
  {
   "cell_type": "raw",
   "id": "7be134a3-7899-4bdb-a2e0-b2a47d8fc895",
   "metadata": {},
   "source": [
    "Write a program that asks a user to enter a number. Your program will then double that number and print out the result. It will repeat that process until the value is 100 or greater.\n",
    "\n",
    "For example if the user enters the number 2 you would then print:\n",
    "\n",
    "4 8 16 32 64 128\n",
    "\n",
    "Note that:\n",
    "\n",
    "2 doubled is 4\n",
    "\n",
    "4 doubled is 8\n",
    "\n",
    "8 doubled is 16\n",
    "\n",
    "and so on.\n",
    "\n",
    "We stop at 128 because that value is greater than 100.\n",
    "\n",
    "Maintain the current number in a variable named curr_value. When you double the number, you should be updating curr_value. Recall that you can double the value of curr_value using a line like:\n",
    "\n",
    "curr_value = curr_value * 2\n",
    "\n",
    "This program should have a while loop and the while loop condition should test if curr_value is less than 100. Thus, your program will have the line:\n",
    "\n",
    "while curr_value < 100:"
   ]
  },
  {
   "cell_type": "code",
   "execution_count": 8,
   "id": "cdf07b03-10be-4c6c-872e-b32995f7576c",
   "metadata": {},
   "outputs": [
    {
     "name": "stdin",
     "output_type": "stream",
     "text": [
      "Enter a number:  4\n"
     ]
    },
    {
     "name": "stdout",
     "output_type": "stream",
     "text": [
      "8 16 32 64 128 "
     ]
    }
   ],
   "source": [
    "# Ask the user to enter a number\n",
    "curr_value = int(input(\"Enter a number: \"))\n",
    "\n",
    "# Use a while loop to double the number until it reaches 100 or greater\n",
    "while curr_value < 100:\n",
    "    curr_value = curr_value * 2\n",
    "    print(curr_value, end=\" \")  # Print the current value and stay on the same line"
   ]
  },
  {
   "cell_type": "code",
   "execution_count": null,
   "id": "f3957ac8-c482-43da-b46e-27dbdf89b263",
   "metadata": {},
   "outputs": [],
   "source": []
  }
 ],
 "metadata": {
  "kernelspec": {
   "display_name": "Python 3 (ipykernel)",
   "language": "python",
   "name": "python3"
  },
  "language_info": {
   "codemirror_mode": {
    "name": "ipython",
    "version": 3
   },
   "file_extension": ".py",
   "mimetype": "text/x-python",
   "name": "python",
   "nbconvert_exporter": "python",
   "pygments_lexer": "ipython3",
   "version": "3.12.7"
  }
 },
 "nbformat": 4,
 "nbformat_minor": 5
}
