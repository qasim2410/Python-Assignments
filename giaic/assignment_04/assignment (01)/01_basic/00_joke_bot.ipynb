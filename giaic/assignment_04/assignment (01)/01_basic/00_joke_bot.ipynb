{
 "cells": [
  {
   "cell_type": "raw",
   "id": "f1ce4f8b-0c31-44f9-8af4-68998e701ff1",
   "metadata": {},
   "source": [
    "Write a simple joke bot. The bot starts by asking the user what they want. However, your program will only respond to one response: Joke.\n",
    "\n",
    "If the user enters Joke then we will print out a single joke. Each time the joke is always the same:\n",
    "\n",
    "Here is a joke for you! Panaversity GPT - Sophia is heading out to the grocery store. A programmer tells her: get a liter of milk, and if they have eggs, get 12. Sophia returns with 13 liters of milk. The programmer asks why and Sophia replies: 'because they had eggs'\n",
    "\n",
    "If the user enters anything else we print out:\n",
    "\n",
    "Sorry I only tell jokes\n",
    "\n",
    "You should use the three constants:\n",
    "\n",
    "PROMPT JOKE SORRY\n",
    "\n",
    "which contain the strings for the prompt asked to the user, the joke to print out if the user enters Joke and the sorry message if the user enters anything else.\n",
    "\n",
    "Your program will need to use an if statement which checks if the user input is Joke:\n",
    "\n",
    "if user_input == \"Joke\":\n",
    "\n",
    "Recall that == is a comparison which tests if two values are equal to one another.\n",
    "\n",
    "Here is a full run of the program (user input is in blue):\n",
    "\n",
    "What do you want? Joke Here is a joke for you! Panaversity GPT - Sophia is heading out to the grocery store. A programmer tells her: get a liter of milk, and if they have eggs, get 12. Sophia returns with 13 liters of milk. The programmer asks why and Sophia replies: 'because they had eggs'. solve this question in simple manner so every 5 class student can understand"
   ]
  },
  {
   "cell_type": "code",
   "execution_count": 7,
   "id": "04d02bb8-694c-4bee-8699-c218464dcab0",
   "metadata": {},
   "outputs": [
    {
     "name": "stdin",
     "output_type": "stream",
     "text": [
      "What do you want? Joke\n"
     ]
    },
    {
     "name": "stdout",
     "output_type": "stream",
     "text": [
      "Here is a joke for you! Panaversity GPT - Sophia is heading out to the grocery store. A programmer tells her: get a liter of milk, and if they have eggs, get 12. Sophia returns with 13 liters of milk. The programmer asks why and Sophia replies: 'because they had eggs'.\n"
     ]
    }
   ],
   "source": [
    "# Constants\n",
    "PROMPT = \"What do you want?\"  # The question the bot asks\n",
    "JOKE = \"Here is a joke for you! Panaversity GPT - Sophia is heading out to the grocery store. A programmer tells her: get a liter of milk, and if they have eggs, get 12. Sophia returns with 13 liters of milk. The programmer asks why and Sophia replies: 'because they had eggs'.\"\n",
    "SORRY = \"Sorry I only tell jokes\"  # The message when the user types something other than \"Joke\"\n",
    "\n",
    "# Ask the user for input\n",
    "user_input = input(PROMPT)\n",
    "\n",
    "# Check if the user wants a joke\n",
    "if user_input == \"Joke\":\n",
    "    print(JOKE)  # Tell the joke\n",
    "else:\n",
    "    print(SORRY)  # Say sorry if the input is not \"Joke\""
   ]
  },
  {
   "cell_type": "code",
   "execution_count": null,
   "id": "08fc09e4-ca44-4367-98c6-da86ebddf774",
   "metadata": {},
   "outputs": [],
   "source": []
  }
 ],
 "metadata": {
  "kernelspec": {
   "display_name": "Python 3 (ipykernel)",
   "language": "python",
   "name": "python3"
  },
  "language_info": {
   "codemirror_mode": {
    "name": "ipython",
    "version": 3
   },
   "file_extension": ".py",
   "mimetype": "text/x-python",
   "name": "python",
   "nbconvert_exporter": "python",
   "pygments_lexer": "ipython3",
   "version": "3.12.7"
  }
 },
 "nbformat": 4,
 "nbformat_minor": 5
}
