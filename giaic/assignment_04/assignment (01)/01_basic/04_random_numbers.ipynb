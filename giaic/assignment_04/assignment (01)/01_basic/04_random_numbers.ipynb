{
 "cells": [
  {
   "cell_type": "raw",
   "id": "377fa610-1b4f-46e3-825d-1e4715f03e12",
   "metadata": {},
   "source": [
    "Print 10 random numbers in the range 1 to 100.\n",
    "\n",
    "Here is an example run:\n",
    "\n",
    "45 79 61 47 52 10 16 83 19 12\n",
    "\n",
    "Each time you run your program you should get different numbers\n",
    "\n",
    "81 76 70 1 27 63 96 100 32 92\n",
    "\n",
    "Recall that the python random library has a function randint which returns an integer in the range set by the parameters (inclusive). For example this call would produce a random integer between 1 and 6, which could include 1 and could include 6:\n",
    "\n",
    "value = random.randint(1, 6)"
   ]
  },
  {
   "cell_type": "code",
   "execution_count": 1,
   "id": "5003affe-131a-4ebf-ba46-d6d65a7084c2",
   "metadata": {},
   "outputs": [
    {
     "name": "stdout",
     "output_type": "stream",
     "text": [
      "43 30 6 14 84 61 37 72 60 93 "
     ]
    }
   ],
   "source": [
    "import random\n",
    "\n",
    "# Print 10 random numbers in the range 1 to 100\n",
    "for _ in range(10):\n",
    "    print(random.randint(1, 100), end=\" \")"
   ]
  },
  {
   "cell_type": "code",
   "execution_count": null,
   "id": "7ed12084-dd9c-4550-8f02-e0f300cb01b3",
   "metadata": {},
   "outputs": [],
   "source": []
  }
 ],
 "metadata": {
  "kernelspec": {
   "display_name": "Python 3 (ipykernel)",
   "language": "python",
   "name": "python3"
  },
  "language_info": {
   "codemirror_mode": {
    "name": "ipython",
    "version": 3
   },
   "file_extension": ".py",
   "mimetype": "text/x-python",
   "name": "python",
   "nbconvert_exporter": "python",
   "pygments_lexer": "ipython3",
   "version": "3.12.7"
  }
 },
 "nbformat": 4,
 "nbformat_minor": 5
}
