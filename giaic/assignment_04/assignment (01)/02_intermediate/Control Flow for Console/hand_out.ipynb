{
 "cells": [
  {
   "cell_type": "markdown",
   "id": "60274753-643a-46e2-89bc-9e23777dacc7",
   "metadata": {},
   "source": [
    "# Problem: High Low"
   ]
  },
  {
   "cell_type": "code",
   "execution_count": null,
   "id": "56415370-aa88-4b0f-93ad-4a665c6f2b75",
   "metadata": {},
   "outputs": [],
   "source": [
    "We want you to gain more experience working with control flow and Booleans in Python. To do this, we are going to have you develop a game! The game is called High-Low and the way it's played goes as follows:\n",
    "\n",
    "Two numbers are generated from 1 to 100 (inclusive on both ends): one for you and one for a computer, who will be your opponent. You can see your number, but not the computer's!\n",
    "\n",
    "You make a guess, saying your number is either higher than or lower than the computer's number\n",
    "\n",
    "If your guess matches the truth (ex. you guess your number is higher, and then your number is actually higher than the computer's), you get a point!\n",
    "\n",
    "These steps make up one round of the game. The game is over after all rounds have been played.\n",
    "\n",
    "We've provided a sample run below."
   ]
  },
  {
   "cell_type": "code",
   "execution_count": 2,
   "id": "27c9a6c8-4a8a-45fe-9fe3-c4873a6c50e8",
   "metadata": {},
   "outputs": [
    {
     "name": "stdin",
     "output_type": "stream",
     "text": [
      "How many rounds would you like to play?  4\n"
     ]
    },
    {
     "name": "stdout",
     "output_type": "stream",
     "text": [
      "\n",
      "--- Round 1 ---\n",
      "\n",
      "Your number: 62\n",
      "Guess if your number is higher or lower than the computer's number.\n"
     ]
    },
    {
     "name": "stdin",
     "output_type": "stream",
     "text": [
      "Is your number higher or lower? (Type 'higher' or 'lower'):  lower\n"
     ]
    },
    {
     "name": "stdout",
     "output_type": "stream",
     "text": [
      "The computer's number was: 73\n",
      "Correct guess! You get a point.\n",
      "\n",
      "--- Round 2 ---\n",
      "\n",
      "Your number: 81\n",
      "Guess if your number is higher or lower than the computer's number.\n"
     ]
    },
    {
     "name": "stdin",
     "output_type": "stream",
     "text": [
      "Is your number higher or lower? (Type 'higher' or 'lower'):  44\n"
     ]
    },
    {
     "name": "stdout",
     "output_type": "stream",
     "text": [
      "The computer's number was: 68\n",
      "Incorrect guess.\n",
      "\n",
      "--- Round 3 ---\n",
      "\n",
      "Your number: 75\n",
      "Guess if your number is higher or lower than the computer's number.\n"
     ]
    },
    {
     "name": "stdin",
     "output_type": "stream",
     "text": [
      "Is your number higher or lower? (Type 'higher' or 'lower'):  higher\n"
     ]
    },
    {
     "name": "stdout",
     "output_type": "stream",
     "text": [
      "The computer's number was: 21\n",
      "Correct guess! You get a point.\n",
      "\n",
      "--- Round 4 ---\n",
      "\n",
      "Your number: 68\n",
      "Guess if your number is higher or lower than the computer's number.\n"
     ]
    },
    {
     "name": "stdin",
     "output_type": "stream",
     "text": [
      "Is your number higher or lower? (Type 'higher' or 'lower'):  higher\n"
     ]
    },
    {
     "name": "stdout",
     "output_type": "stream",
     "text": [
      "The computer's number was: 41\n",
      "Correct guess! You get a point.\n",
      "\n",
      "Game Over! Your total score is: 3 points\n"
     ]
    }
   ],
   "source": [
    "#### import random\n",
    "\n",
    "def play_round():\n",
    "    # Generate random numbers for the player and computer\n",
    "    player_num = random.randint(1, 100)\n",
    "    computer_num = random.randint(1, 100)\n",
    "\n",
    "    print(f\"\\nYour number: {player_num}\")\n",
    "    print(\"Guess if your number is higher or lower than the computer's number.\")\n",
    "\n",
    "    # Get the player's guess\n",
    "    guess = input(\"Is your number higher or lower? (Type 'higher' or 'lower'): \").lower()\n",
    "\n",
    "    # Check if the player's guess is correct\n",
    "    if (guess == 'higher' and player_num > computer_num) or (guess == 'lower' and player_num < computer_num):\n",
    "        print(f\"The computer's number was: {computer_num}\")\n",
    "        print(\"Correct guess! You get a point.\")\n",
    "        return 1  # Player gets a point\n",
    "    else:\n",
    "        print(f\"The computer's number was: {computer_num}\")\n",
    "        print(\"Incorrect guess.\")\n",
    "        return 0  # No point for the player\n",
    "\n",
    "def main():\n",
    "    rounds = int(input(\"How many rounds would you like to play? \"))\n",
    "    total_score = 0\n",
    "\n",
    "    for round in range(rounds):\n",
    "        print(f\"\\n--- Round {round + 1} ---\")\n",
    "        total_score += play_round()\n",
    "\n",
    "    # Print final score\n",
    "    print(f\"\\nGame Over! Your total score is: {total_score} points\")\n",
    "\n",
    "# Start the game\n",
    "main()"
   ]
  },
  {
   "cell_type": "code",
   "execution_count": null,
   "id": "c664f2fb-ba88-422b-a752-e2356acc2e13",
   "metadata": {},
   "outputs": [],
   "source": []
  }
 ],
 "metadata": {
  "kernelspec": {
   "display_name": "Python 3 (ipykernel)",
   "language": "python",
   "name": "python3"
  },
  "language_info": {
   "codemirror_mode": {
    "name": "ipython",
    "version": 3
   },
   "file_extension": ".py",
   "mimetype": "text/x-python",
   "name": "python",
   "nbconvert_exporter": "python",
   "pygments_lexer": "ipython3",
   "version": "3.12.7"
  }
 },
 "nbformat": 4,
 "nbformat_minor": 5
}
