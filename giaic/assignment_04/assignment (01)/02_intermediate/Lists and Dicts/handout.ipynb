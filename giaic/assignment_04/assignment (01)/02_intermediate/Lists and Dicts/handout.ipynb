{
 "cells": [
  {
   "cell_type": "markdown",
   "id": "5b22f4c2-9051-4f81-8c4c-8ad08da96f48",
   "metadata": {},
   "source": [
    "# Problem #1: List Practice"
   ]
  },
  {
   "cell_type": "code",
   "execution_count": null,
   "id": "bd0733d0-53a4-4bed-9d7e-2dbb40a5cecc",
   "metadata": {},
   "outputs": [],
   "source": [
    "def main():\n",
    "    # Create a list called fruit_list that contains the following fruits\n",
    "    fruit_list = ['apple', 'banana', 'orange', 'grape', 'pineapple']\n",
    "\n",
    "    # Print the list to verify it\n",
    "    print(fruit_list)\n",
    "\n",
    "# Call the main function to run the program\n",
    "main()"
   ]
  },
  {
   "cell_type": "markdown",
   "id": "c2840761-e55b-440f-b181-a6d907507dc8",
   "metadata": {},
   "source": [
    "# Problem #2: Index Game"
   ]
  },
  {
   "cell_type": "code",
   "execution_count": null,
   "id": "033122fa-0f0a-4477-a3be-bd8c9082c63e",
   "metadata": {},
   "outputs": [],
   "source": []
  },
  {
   "cell_type": "code",
   "execution_count": 1,
   "id": "1c29665b-4f80-4ef2-ac9f-fcd8e36ff15f",
   "metadata": {},
   "outputs": [
    {
     "name": "stdout",
     "output_type": "stream",
     "text": [
      "Welcome to the List Game!\n",
      "Here is the list:  ['apple', 3, 'banana', 7, 'orange']\n",
      "\n",
      "What do you want to do?\n",
      "1. Look at an item\n",
      "2. Change an item\n",
      "3. Take a part of the list\n",
      "4. Exit the game\n"
     ]
    },
    {
     "name": "stdin",
     "output_type": "stream",
     "text": [
      "Enter the number for what you want to do:  1\n",
      "Enter the index (number) of the item you want to look at:  1\n"
     ]
    },
    {
     "name": "stdout",
     "output_type": "stream",
     "text": [
      "Result:  3\n",
      "\n",
      "What do you want to do?\n",
      "1. Look at an item\n",
      "2. Change an item\n",
      "3. Take a part of the list\n",
      "4. Exit the game\n"
     ]
    },
    {
     "name": "stdin",
     "output_type": "stream",
     "text": [
      "Enter the number for what you want to do:  2\n",
      "Enter the index (number) of the item you want to change:  2\n",
      "Enter the new value:  33\n"
     ]
    },
    {
     "name": "stdout",
     "output_type": "stream",
     "text": [
      "Item at index 2 is now 33.\n",
      "Updated List:  ['apple', 3, '33', 7, 'orange']\n",
      "\n",
      "What do you want to do?\n",
      "1. Look at an item\n",
      "2. Change an item\n",
      "3. Take a part of the list\n",
      "4. Exit the game\n"
     ]
    },
    {
     "name": "stdin",
     "output_type": "stream",
     "text": [
      "Enter the number for what you want to do:  3\n",
      "Enter the start index:  3\n",
      "Enter the end index:  3\n"
     ]
    },
    {
     "name": "stdout",
     "output_type": "stream",
     "text": [
      "Part of the list:  []\n",
      "\n",
      "What do you want to do?\n",
      "1. Look at an item\n",
      "2. Change an item\n",
      "3. Take a part of the list\n",
      "4. Exit the game\n"
     ]
    },
    {
     "name": "stdin",
     "output_type": "stream",
     "text": [
      "Enter the number for what you want to do:  4\n"
     ]
    },
    {
     "name": "stdout",
     "output_type": "stream",
     "text": [
      "Goodbye! Thanks for playing!\n"
     ]
    }
   ],
   "source": [
    "# Function to look at an item in the list\n",
    "def look_at_item(my_list, index):\n",
    "    if 0 <= index < len(my_list):  # Check if the index is valid\n",
    "        return my_list[index]  # Return the item\n",
    "    else:\n",
    "        return \"This is not a valid index!\"  # If the index is wrong\n",
    "\n",
    "# Function to change an item in the list\n",
    "def change_item(my_list, index, new_value):\n",
    "    if 0 <= index < len(my_list):  # Check if the index is valid\n",
    "        my_list[index] = new_value  # Change the item\n",
    "        return f\"Item at index {index} is now {new_value}.\"  # Tell the user what changed\n",
    "    else:\n",
    "        return \"This is not a valid index!\"  # If the index is wrong\n",
    "\n",
    "# Function to take a part of the list\n",
    "def take_part_of_list(my_list, start, end):\n",
    "    if 0 <= start < len(my_list) and 0 <= end <= len(my_list):  # Check if the indices are valid\n",
    "        return my_list[start:end]  # Get the part of the list\n",
    "    else:\n",
    "        return \"Invalid indices!\"  # If the indices are wrong\n",
    "\n",
    "# Main game loop\n",
    "def play_game():\n",
    "    # List of things: fruit and numbers\n",
    "    my_list = ['apple', 3, 'banana', 7, 'orange']\n",
    "\n",
    "    print(\"Welcome to the List Game!\")\n",
    "    print(\"Here is the list: \", my_list)\n",
    "\n",
    "    while True:\n",
    "        print(\"\\nWhat do you want to do?\")\n",
    "        print(\"1. Look at an item\")\n",
    "        print(\"2. Change an item\")\n",
    "        print(\"3. Take a part of the list\")\n",
    "        print(\"4. Exit the game\")\n",
    "\n",
    "        choice = input(\"Enter the number for what you want to do: \")\n",
    "\n",
    "        if choice == '1':  # Look at an item\n",
    "            index = int(input(\"Enter the index (number) of the item you want to look at: \"))\n",
    "            result = look_at_item(my_list, index)\n",
    "            print(\"Result: \", result)\n",
    "\n",
    "        elif choice == '2':  # Change an item\n",
    "            index = int(input(\"Enter the index (number) of the item you want to change: \"))\n",
    "            new_value = input(\"Enter the new value: \")\n",
    "            result = change_item(my_list, index, new_value)\n",
    "            print(result)\n",
    "            print(\"Updated List: \", my_list)\n",
    "\n",
    "        elif choice == '3':  # Take part of the list\n",
    "            start = int(input(\"Enter the start index: \"))\n",
    "            end = int(input(\"Enter the end index: \"))\n",
    "            result = take_part_of_list(my_list, start, end)\n",
    "            print(\"Part of the list: \", result)\n",
    "\n",
    "        elif choice == '4':  # Exit the game\n",
    "            print(\"Goodbye! Thanks for playing!\")\n",
    "            break  # Stop the game\n",
    "\n",
    "        else:\n",
    "            print(\"Please choose a valid option.\")\n",
    "\n",
    "# Start the game\n",
    "play_game()"
   ]
  },
  {
   "cell_type": "code",
   "execution_count": null,
   "id": "0c7062c1-207f-446f-a036-1ddf49f24040",
   "metadata": {},
   "outputs": [],
   "source": []
  }
 ],
 "metadata": {
  "kernelspec": {
   "display_name": "Python 3 (ipykernel)",
   "language": "python",
   "name": "python3"
  },
  "language_info": {
   "codemirror_mode": {
    "name": "ipython",
    "version": 3
   },
   "file_extension": ".py",
   "mimetype": "text/x-python",
   "name": "python",
   "nbconvert_exporter": "python",
   "pygments_lexer": "ipython3",
   "version": "3.12.7"
  }
 },
 "nbformat": 4,
 "nbformat_minor": 5
}
