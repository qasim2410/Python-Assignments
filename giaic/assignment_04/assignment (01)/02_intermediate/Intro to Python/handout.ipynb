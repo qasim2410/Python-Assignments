{
 "cells": [
  {
   "cell_type": "markdown",
   "id": "71180d82-fd53-4090-a92b-bf5550209418",
   "metadata": {},
   "source": [
    "# Problem: Planetary Weight Calculator"
   ]
  },
  {
   "cell_type": "markdown",
   "id": "c889300b-f2bb-45c1-b36b-ea26f773d124",
   "metadata": {},
   "source": [
    "# Milestone #1: Mars Weight"
   ]
  },
  {
   "cell_type": "raw",
   "id": "bf42ff70-734c-4d68-b481-7dc2769442aa",
   "metadata": {},
   "source": [
    "A few years ago, NASA made history with the first controlled flight on another planet. Its latest Mars Rover, Perseverance, has onboard a 50cm high helicopter called Ingenuity. Ingenuity made its third flight, during which it flew faster and further than it had on any of its test flights on Earth. Interestingly, Ingenuity uses Python for some of its flight modeling software!\n",
    "\n",
    "Ingenuity on the surface of Mars (source: NASA)\n",
    "\n",
    "When programming Ingenuity, one of the things that NASA engineers need to account for is the fact that due to the weaker gravity on Mars, an Earthling's weight on Mars is 37.8% of their weight on Earth. Write a Python program that prompts an Earthling to enter their weight on Earth and prints their calculated weight on Mars.\n",
    "\n",
    "The output should be rounded to two decimal places when necessary. Python has a round function which can help you with this. You pass in the value to be rounded and the number of decimal places to use. In the example below, the number 3.1415926 is rounded to 2 decimal places which is 3.14."
   ]
  },
  {
   "cell_type": "code",
   "execution_count": null,
   "id": "0360830b-2bc2-4c2e-a011-944eb600c652",
   "metadata": {},
   "outputs": [],
   "source": [
    "def main():\n",
    "    # Prompt the user to enter their weight on Earth\n",
    "    earth_weight = float(input(\"Enter your weight on Earth (in kg): \"))\n",
    "\n",
    "    # Calculate the weight on Mars\n",
    "    mars_weight = earth_weight * 0.378\n",
    "\n",
    "    # Round the result to 2 decimal places\n",
    "    mars_weight_rounded = round(mars_weight, 2)\n",
    "\n",
    "    # Print the result\n",
    "    print(f\"Your weight on Mars would be: {mars_weight_rounded} kg\")\n",
    "\n",
    "# Call the main function to run the program\n",
    "main()"
   ]
  },
  {
   "cell_type": "markdown",
   "id": "0cc904de-4b54-439b-927f-21b4e22ccd8e",
   "metadata": {},
   "source": [
    "# Milestone #2: Adding in All Planets"
   ]
  },
  {
   "cell_type": "raw",
   "id": "559d3abd-173a-49a6-b16c-8852eb4c10f5",
   "metadata": {},
   "source": [
    "Mars is not the only planet in our solar system with its own unique gravity. In fact, each planet has a different gravitational constant, which affects how much an object would weigh on that planet. Below is a list of the constants for each planet compared to Earth's gravity:\n",
    "\n",
    "Mercury: 37.6%\n",
    "\n",
    "Venus: 88.9%\n",
    "\n",
    "Mars: 37.8%\n",
    "\n",
    "Jupiter: 236.0%\n",
    "\n",
    "Saturn: 108.1%\n",
    "\n",
    "Uranus: 81.5%\n",
    "\n",
    "Neptune: 114.0%\n",
    "\n",
    "Write a Python program that prompts an Earthling to enter their weight on Earth and then to enter the name of a planet in our solar system. The program should print the equivalent weight on that planet rounded to 2 decimal places if necessary.\n",
    "\n",
    "You can assume that the user will always type in a planet with the first letter capitalized and you do not need to worry about the case where they type in something other than one of the above planets.\n",
    "\n"
   ]
  },
  {
   "cell_type": "code",
   "execution_count": 11,
   "id": "97492a90-28ae-41ff-8f76-40806cf681ec",
   "metadata": {},
   "outputs": [
    {
     "name": "stdin",
     "output_type": "stream",
     "text": [
      "Enter your weight on Earth (in kg):  88\n",
      "Enter the name of a planet:  Mercury\n"
     ]
    },
    {
     "name": "stdout",
     "output_type": "stream",
     "text": [
      "Your weight on Mercury would be: 33.09 kg\n"
     ]
    }
   ],
   "source": [
    "def main():\n",
    "    # Dictionary to store gravity percentages for each planet\n",
    "    gravity_constants = {\n",
    "        \"Mercury\": 37.6,\n",
    "        \"Venus\": 88.9,\n",
    "        \"Mars\": 37.8,\n",
    "        \"Jupiter\": 236.0,\n",
    "        \"Saturn\": 108.1,\n",
    "        \"Uranus\": 81.5,\n",
    "        \"Neptune\": 114.0\n",
    "    }\n",
    "\n",
    "    # Prompt the user for their weight on Earth\n",
    "    earth_weight = float(input(\"Enter your weight on Earth (in kg): \"))\n",
    "\n",
    "    # Prompt the user for the planet they want to know their weight on\n",
    "    planet = input(\"Enter the name of a planet: \")\n",
    "\n",
    "    # Calculate the weight on the selected planet\n",
    "    if planet in gravity_constants:\n",
    "        planet_gravity_percentage = gravity_constants[planet]\n",
    "        planet_weight = earth_weight * (planet_gravity_percentage / 100)\n",
    "\n",
    "        # Round the result to 2 decimal places\n",
    "        planet_weight_rounded = round(planet_weight, 2)\n",
    "\n",
    "        # Print the result\n",
    "        print(f\"Your weight on {planet} would be: {planet_weight_rounded} kg\")\n",
    "    else:\n",
    "        print(\"Invalid planet name. Please enter a valid planet name.\")\n",
    "\n",
    "# Call the main function to run the program\n",
    "main()"
   ]
  },
  {
   "cell_type": "code",
   "execution_count": null,
   "id": "10a6cfd5-ac4b-483b-af3a-5f9716b85b6a",
   "metadata": {},
   "outputs": [],
   "source": []
  }
 ],
 "metadata": {
  "kernelspec": {
   "display_name": "Python 3 (ipykernel)",
   "language": "python",
   "name": "python3"
  },
  "language_info": {
   "codemirror_mode": {
    "name": "ipython",
    "version": 3
   },
   "file_extension": ".py",
   "mimetype": "text/x-python",
   "name": "python",
   "nbconvert_exporter": "python",
   "pygments_lexer": "ipython3",
   "version": "3.12.7"
  }
 },
 "nbformat": 4,
 "nbformat_minor": 5
}
