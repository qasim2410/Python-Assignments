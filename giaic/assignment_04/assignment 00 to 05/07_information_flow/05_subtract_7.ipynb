{
 "cells": [
  {
   "cell_type": "raw",
   "id": "6c5aab24-18d1-46b5-97b1-21f3add7def5",
   "metadata": {},
   "source": [
    "Fill out the subtract_seven helper function to subtract 7 from num, and fill out the main() method to call the subtract_seven helper function! If you're stuck, revisit the add_five example from lecture."
   ]
  },
  {
   "cell_type": "code",
   "execution_count": 1,
   "id": "25a085ab-b817-4a11-b256-ea88d3960de0",
   "metadata": {},
   "outputs": [
    {
     "name": "stdin",
     "output_type": "stream",
     "text": [
      "Enter a number:  109887\n"
     ]
    },
    {
     "name": "stdout",
     "output_type": "stream",
     "text": [
      "The result after subtracting 7 is: 109880\n"
     ]
    }
   ],
   "source": [
    "# Helper function to subtract 7 from a given number\n",
    "def subtract_seven(num):\n",
    "    return num - 7\n",
    "\n",
    "# Main function to get input and call the helper function\n",
    "def main():\n",
    "    # Prompt the user for a number\n",
    "    num = int(input(\"Enter a number: \"))\n",
    "    \n",
    "    # Call the subtract_seven function and store the result\n",
    "    result = subtract_seven(num)\n",
    "    \n",
    "    # Print the result\n",
    "    print(f\"The result after subtracting 7 is: {result}\")\n",
    "\n",
    "# Run the main function\n",
    "main()"
   ]
  },
  {
   "cell_type": "code",
   "execution_count": null,
   "id": "c136c569-5392-49b7-8cad-012d8908c23e",
   "metadata": {},
   "outputs": [],
   "source": []
  }
 ],
 "metadata": {
  "kernelspec": {
   "display_name": "Python 3 (ipykernel)",
   "language": "python",
   "name": "python3"
  },
  "language_info": {
   "codemirror_mode": {
    "name": "ipython",
    "version": 3
   },
   "file_extension": ".py",
   "mimetype": "text/x-python",
   "name": "python",
   "nbconvert_exporter": "python",
   "pygments_lexer": "ipython3",
   "version": "3.12.7"
  }
 },
 "nbformat": 4,
 "nbformat_minor": 5
}
