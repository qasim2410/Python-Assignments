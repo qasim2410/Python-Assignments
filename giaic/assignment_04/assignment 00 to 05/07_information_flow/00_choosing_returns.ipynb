{
 "cells": [
  {
   "cell_type": "raw",
   "id": "4cf3e6bf-6791-4262-8eca-275f9376fa9c",
   "metadata": {},
   "source": [
    "There are times where we want to return different things from a function based on some condition. To practice this idea, imagine that we want to check if someone is an adult. We might check their age and return different things depending on how old they are!\n",
    "\n",
    "We've provided you with the ADULT_AGE variable which has the age a person is legally classified as an adult (in the United States). Fill out the is_adult(age) function, which returns True if the function takes an age that is greater than or equal to ADULT_AGE. If the function takes an age less than ADULT_AGE, return False instead.\n",
    "\n",
    "Here are two sample runs of the program, one for each return option (user input in bold italics):\n",
    "\n",
    "(Entered age is an adult age)\n",
    "\n",
    "How old is this person?: 35\n",
    "\n",
    "True\n",
    "\n",
    "(Entered age is not an adult age)\n",
    "\n",
    "How old is this person?: 7\n",
    "\n",
    "False"
   ]
  },
  {
   "cell_type": "code",
   "execution_count": 1,
   "id": "7c33b563-9150-4a90-8414-6a42b2f8ad35",
   "metadata": {},
   "outputs": [
    {
     "name": "stdin",
     "output_type": "stream",
     "text": [
      "How old is this person?:  21\n"
     ]
    },
    {
     "name": "stdout",
     "output_type": "stream",
     "text": [
      "True\n"
     ]
    }
   ],
   "source": [
    "# Constant defining the legal adult age\n",
    "ADULT_AGE = 18\n",
    "\n",
    "# Function to check if the given age is an adult age\n",
    "def is_adult(age):\n",
    "    if age >= ADULT_AGE:\n",
    "        return True\n",
    "    else:\n",
    "        return False\n",
    "\n",
    "# Main function\n",
    "def main():\n",
    "    # Prompt the user for the person's age\n",
    "    age = int(input(\"How old is this person?: \"))\n",
    "    \n",
    "    # Call the is_adult function and print the result\n",
    "    print(is_adult(age))\n",
    "\n",
    "# Run the main function\n",
    "main()"
   ]
  },
  {
   "cell_type": "code",
   "execution_count": null,
   "id": "553ebd6e-10ff-4909-becb-cd5a11eedad6",
   "metadata": {},
   "outputs": [],
   "source": []
  }
 ],
 "metadata": {
  "kernelspec": {
   "display_name": "Python 3 (ipykernel)",
   "language": "python",
   "name": "python3"
  },
  "language_info": {
   "codemirror_mode": {
    "name": "ipython",
    "version": 3
   },
   "file_extension": ".py",
   "mimetype": "text/x-python",
   "name": "python",
   "nbconvert_exporter": "python",
   "pygments_lexer": "ipython3",
   "version": "3.12.7"
  }
 },
 "nbformat": 4,
 "nbformat_minor": 5
}
