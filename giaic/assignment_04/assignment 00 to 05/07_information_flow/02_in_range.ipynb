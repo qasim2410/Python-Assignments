{
 "cells": [
  {
   "cell_type": "raw",
   "id": "6c50e25f-c36d-4517-a286-5efc7b6acd31",
   "metadata": {},
   "source": [
    "Implement the following function which takes in 3 integers as parameters:\n",
    "\n",
    "def in_range(n, low, high) \"\"\" Returns True if n is between low and high, inclusive. high is guaranteed to be greater than low. \"\"\""
   ]
  },
  {
   "cell_type": "code",
   "execution_count": 3,
   "id": "99d84537-0104-4c50-8530-4ce4b2c4298f",
   "metadata": {},
   "outputs": [],
   "source": [
    "def in_range(n, low, high):\n",
    "    \"\"\" Returns True if n is between low and high, inclusive. \"\"\"\n",
    "    return low <= n <= high"
   ]
  },
  {
   "cell_type": "code",
   "execution_count": 5,
   "id": "b21977ec-1085-4e57-a49c-875797eef102",
   "metadata": {},
   "outputs": [
    {
     "name": "stdout",
     "output_type": "stream",
     "text": [
      "True\n",
      "False\n",
      "True\n"
     ]
    }
   ],
   "source": [
    "print(in_range(5, 1, 10))  # True, because 5 is between 1 and 10 (inclusive)\n",
    "print(in_range(0, 1, 10))  # False, because 0 is less than 1\n",
    "print(in_range(10, 1, 10)) # True, because 10 is equal to high (inclusive)"
   ]
  },
  {
   "cell_type": "code",
   "execution_count": null,
   "id": "8dea777a-694c-4723-a7e2-edecc293a2a0",
   "metadata": {},
   "outputs": [],
   "source": []
  }
 ],
 "metadata": {
  "kernelspec": {
   "display_name": "Python 3 (ipykernel)",
   "language": "python",
   "name": "python3"
  },
  "language_info": {
   "codemirror_mode": {
    "name": "ipython",
    "version": 3
   },
   "file_extension": ".py",
   "mimetype": "text/x-python",
   "name": "python",
   "nbconvert_exporter": "python",
   "pygments_lexer": "ipython3",
   "version": "3.12.7"
  }
 },
 "nbformat": 4,
 "nbformat_minor": 5
}
