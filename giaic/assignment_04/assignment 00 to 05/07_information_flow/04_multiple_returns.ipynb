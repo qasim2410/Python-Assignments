{
 "cells": [
  {
   "cell_type": "raw",
   "id": "6c4de1aa-aeae-4df4-8499-17767469f4fe",
   "metadata": {},
   "source": [
    "There are times where you are working with lots of different data within a function that you want to return. While generally, we want to keep functions to have a precise purpose, sometimes that purpose just deals with multiple bits of data.\n",
    "\n",
    "To practice this, imagine we are working on a program where the user needs to enters data to sign up for a website. Fill out the get_user_data() function which:\n",
    "\n",
    "Asks the user for their first name and stores it in a variable\n",
    "\n",
    "Asks the user for their last name and stores it in a variable\n",
    "\n",
    "Asks the user for their email address and stores it in a variable\n",
    "\n",
    "Returns all three of these pieces of data in the order it was asked\n",
    "\n",
    "You can return multiple pieces of data by separating each piece with a comma in the return line.\n",
    "\n",
    "Here is an example run of the program:\n",
    "\n",
    "What is your first name?: Jane\n",
    "\n",
    "What is your last name?: Stanford\n",
    "\n",
    "What is your email address?: janestanford@stanford.edu\n",
    "\n",
    "Received the following user data: ('Jane', 'Stanford', 'janestanford@stanford.edu')\n",
    "\n",
    "(Note. This idea is called tuple packing/unpacking. We \"pack\" our return values into a single data structure called a tuple. We can then \"unpack\" these values back into our original values or leave them as a tuple.)"
   ]
  },
  {
   "cell_type": "code",
   "execution_count": 3,
   "id": "1cb058d7-4a3a-45a9-a11f-c1c21010c892",
   "metadata": {},
   "outputs": [
    {
     "name": "stdin",
     "output_type": "stream",
     "text": [
      "What is your first name?:  qasim\n",
      "What is your last name?:  hussain\n",
      "What is your email address?:  qasim.hussain2222@gmail.com\n"
     ]
    },
    {
     "name": "stdout",
     "output_type": "stream",
     "text": [
      "Received the following user data: ('qasim', 'hussain', 'qasim.hussain2222@gmail.com')\n"
     ]
    }
   ],
   "source": [
    "# Function to get user data\n",
    "def get_user_data():\n",
    "    # Ask the user for their first name, last name, and email address\n",
    "    first_name = input(\"What is your first name?: \")\n",
    "    last_name = input(\"What is your last name?: \")\n",
    "    email = input(\"What is your email address?: \")\n",
    "    \n",
    "    # Return all three pieces of data as a tuple\n",
    "    return first_name, last_name, email\n",
    "\n",
    "# Main function to display the result\n",
    "def main():\n",
    "    # Call get_user_data to get the user's information\n",
    "    user_data = get_user_data()\n",
    "    \n",
    "    # Print the returned user data (as a tuple)\n",
    "    print(f\"Received the following user data: {user_data}\")\n",
    "\n",
    "# Run the main function\n",
    "main()"
   ]
  },
  {
   "cell_type": "code",
   "execution_count": null,
   "id": "63e88f87-f4e7-498b-9592-5b54a5e47eb1",
   "metadata": {},
   "outputs": [],
   "source": []
  }
 ],
 "metadata": {
  "kernelspec": {
   "display_name": "Python 3 (ipykernel)",
   "language": "python",
   "name": "python3"
  },
  "language_info": {
   "codemirror_mode": {
    "name": "ipython",
    "version": 3
   },
   "file_extension": ".py",
   "mimetype": "text/x-python",
   "name": "python",
   "nbconvert_exporter": "python",
   "pygments_lexer": "ipython3",
   "version": "3.12.7"
  }
 },
 "nbformat": 4,
 "nbformat_minor": 5
}
