{
 "cells": [
  {
   "cell_type": "raw",
   "id": "583a4d99-c843-4228-95f4-1bea8ed7d888",
   "metadata": {},
   "source": [
    "Sophia has a fruit store. She has written a function num_in_stock which takes a string fruit as a parameter and returns how many of that fruit are in her inventory. Write code in main() which will:\n",
    "\n",
    "Prompt the user to enter a fruit (\"Enter a fruit: \")\n",
    "\n",
    "Call num_in_stock(fruit) to get the number of that fruit that Sophia has in stock\n",
    "\n",
    "Print the number which are in stock if Sophia has that fruit in her inventory (there are more than 0 in stock)\n",
    "\n",
    "Print \"This fruit is not in stock.\" if Sophia has none of that fruit in her inventory.\n",
    "\n",
    "Here's two sample runs of the program (user input in bold italics):\n",
    "\n",
    "Enter a fruit: pear\n",
    "\n",
    "This fruit is in stock! Here is how many:\n",
    "\n",
    "1000\n",
    "\n",
    "Enter a fruit: lychee\n",
    "\n",
    "This fruit is not in stock."
   ]
  },
  {
   "cell_type": "code",
   "execution_count": 1,
   "id": "2d5aab1e-3a0f-40a7-a0f8-5c4723ef794a",
   "metadata": {},
   "outputs": [
    {
     "name": "stdin",
     "output_type": "stream",
     "text": [
      "Enter a fruit:  mango\n"
     ]
    },
    {
     "name": "stdout",
     "output_type": "stream",
     "text": [
      "This fruit is not in stock.\n"
     ]
    }
   ],
   "source": [
    "# The num_in_stock function simulates checking how many of a certain fruit are in stock\n",
    "def num_in_stock(fruit):\n",
    "    inventory = {\n",
    "        'apple': 500,\n",
    "        'pear': 1000,\n",
    "        'banana': 200,\n",
    "        'orange': 300,\n",
    "        'grape': 0  # Assume there are no grapes in stock\n",
    "    }\n",
    "    # Check if the fruit is in stock and return the amount\n",
    "    return inventory.get(fruit.lower(), 0)\n",
    "\n",
    "# Main function\n",
    "def main():\n",
    "    # Prompt the user to enter a fruit\n",
    "    fruit = input(\"Enter a fruit: \")\n",
    "\n",
    "    # Call num_in_stock to get the number of that fruit in stock\n",
    "    stock = num_in_stock(fruit)\n",
    "\n",
    "    # Print appropriate messages based on the stock availability\n",
    "    if stock > 0:\n",
    "        print(\"This fruit is in stock! Here is how many:\")\n",
    "        print(stock)\n",
    "    else:\n",
    "        print(\"This fruit is not in stock.\")\n",
    "\n",
    "# Run the main function\n",
    "main()"
   ]
  },
  {
   "cell_type": "code",
   "execution_count": 3,
   "id": "41a47930-723d-4c10-9a3c-e32f4fba2d0c",
   "metadata": {},
   "outputs": [
    {
     "name": "stdin",
     "output_type": "stream",
     "text": [
      "Enter a fruit:  banana\n"
     ]
    },
    {
     "name": "stdout",
     "output_type": "stream",
     "text": [
      "This fruit is in stock! Here is how many:\n",
      "200\n"
     ]
    }
   ],
   "source": [
    "# The num_in_stock function simulates checking how many of a certain fruit are in stock\n",
    "def num_in_stock(fruit):\n",
    "    inventory = {\n",
    "        'apple': 500,\n",
    "        'pear': 1000,\n",
    "        'banana': 200,\n",
    "        'orange': 300,\n",
    "        'grape': 0  # Assume there are no grapes in stock\n",
    "    }\n",
    "    # Check if the fruit is in stock and return the amount\n",
    "    return inventory.get(fruit.lower(), 0)\n",
    "\n",
    "# Main function\n",
    "def main():\n",
    "    # Prompt the user to enter a fruit\n",
    "    fruit = input(\"Enter a fruit: \")\n",
    "\n",
    "    # Call num_in_stock to get the number of that fruit in stock\n",
    "    stock = num_in_stock(fruit)\n",
    "\n",
    "    # Print appropriate messages based on the stock availability\n",
    "    if stock > 0:\n",
    "        print(\"This fruit is in stock! Here is how many:\")\n",
    "        print(stock)\n",
    "    else:\n",
    "        print(\"This fruit is not in stock.\")\n",
    "\n",
    "# Run the main function\n",
    "main()"
   ]
  },
  {
   "cell_type": "code",
   "execution_count": null,
   "id": "01ae3ff6-7c1e-4cdb-b1c5-90f32a57a0f9",
   "metadata": {},
   "outputs": [],
   "source": []
  }
 ],
 "metadata": {
  "kernelspec": {
   "display_name": "Python 3 (ipykernel)",
   "language": "python",
   "name": "python3"
  },
  "language_info": {
   "codemirror_mode": {
    "name": "ipython",
    "version": 3
   },
   "file_extension": ".py",
   "mimetype": "text/x-python",
   "name": "python",
   "nbconvert_exporter": "python",
   "pygments_lexer": "ipython3",
   "version": "3.12.7"
  }
 },
 "nbformat": 4,
 "nbformat_minor": 5
}
