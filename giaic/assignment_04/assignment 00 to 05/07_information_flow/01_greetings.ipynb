{
 "cells": [
  {
   "cell_type": "raw",
   "id": "08744e8c-94db-4551-a98e-6d3bfc05b675",
   "metadata": {},
   "source": [
    "We've written a helper function for you called greet(name) which takes as input a string name and prints a greeting. Write some code in main() to get the user's name and then greet them, being sure to call the greet(name) helper function.\n",
    "\n",
    "Here's a sample run of the program (user input in bold italics):\n",
    "\n",
    "What's your name? Sophia\n",
    "\n",
    "Greetings Sophia!"
   ]
  },
  {
   "cell_type": "code",
   "execution_count": 1,
   "id": "cb3fd644-c99e-4845-9266-2532d072ba16",
   "metadata": {},
   "outputs": [
    {
     "name": "stdin",
     "output_type": "stream",
     "text": [
      "What's your name?  Qasim Hussain\n"
     ]
    },
    {
     "name": "stdout",
     "output_type": "stream",
     "text": [
      "Greetings Qasim Hussain!\n"
     ]
    }
   ],
   "source": [
    "# Helper function to greet the user\n",
    "def greet(name):\n",
    "    print(f\"Greetings {name}!\")\n",
    "\n",
    "# Main function\n",
    "def main():\n",
    "    # Prompt the user for their name\n",
    "    name = input(\"What's your name? \")\n",
    "    \n",
    "    # Call the greet function with the user's name\n",
    "    greet(name)\n",
    "\n",
    "# Run the main function\n",
    "main()"
   ]
  },
  {
   "cell_type": "code",
   "execution_count": null,
   "id": "23e14e45-5725-44a5-a334-1092f5f82f8b",
   "metadata": {},
   "outputs": [],
   "source": []
  }
 ],
 "metadata": {
  "kernelspec": {
   "display_name": "Python 3 (ipykernel)",
   "language": "python",
   "name": "python3"
  },
  "language_info": {
   "codemirror_mode": {
    "name": "ipython",
    "version": 3
   },
   "file_extension": ".py",
   "mimetype": "text/x-python",
   "name": "python",
   "nbconvert_exporter": "python",
   "pygments_lexer": "ipython3",
   "version": "3.12.7"
  }
 },
 "nbformat": 4,
 "nbformat_minor": 5
}
