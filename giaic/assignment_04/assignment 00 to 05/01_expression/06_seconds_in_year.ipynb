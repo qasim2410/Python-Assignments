{
 "cells": [
  {
   "cell_type": "raw",
   "id": "799f88f0-05f7-4a15-84c7-b46d75a0eb51",
   "metadata": {},
   "source": [
    "\n",
    "Use Python to calculate the number of seconds in a year, and tell the user what the result is in a nice print statement that looks like this (of course the value 5 should be the calculated number instead):\n",
    "\n",
    "There are 5 seconds in a year!\n",
    "\n",
    "You should use constants for this exercise -- there are 365 days in a year, 24 hours in a day, 60 minutes in an hour, and 60 seconds per minute."
   ]
  },
  {
   "cell_type": "code",
   "execution_count": 2,
   "id": "cae5e7dc-45e2-437c-9576-4c6ed65360e4",
   "metadata": {},
   "outputs": [
    {
     "name": "stdout",
     "output_type": "stream",
     "text": [
      "There are 31536000 seconds in a year!\n"
     ]
    }
   ],
   "source": [
    "# Constants for the number of days in a year, hours in a day, minutes in an hour, and seconds in a minute\n",
    "DAYS_IN_YEAR = 365\n",
    "HOURS_IN_DAY = 24\n",
    "MINUTES_IN_HOUR = 60\n",
    "SECONDS_IN_MINUTE = 60\n",
    "\n",
    "# Calculate the number of seconds in a year\n",
    "seconds_in_year = DAYS_IN_YEAR * HOURS_IN_DAY * MINUTES_IN_HOUR * SECONDS_IN_MINUTE\n",
    "\n",
    "# Print the result\n",
    "print(f\"There are {seconds_in_year} seconds in a year!\")"
   ]
  },
  {
   "cell_type": "code",
   "execution_count": null,
   "id": "9e4fd9ed-4a58-4983-a4ab-437197558142",
   "metadata": {},
   "outputs": [],
   "source": []
  }
 ],
 "metadata": {
  "kernelspec": {
   "display_name": "Python 3 (ipykernel)",
   "language": "python",
   "name": "python3"
  },
  "language_info": {
   "codemirror_mode": {
    "name": "ipython",
    "version": 3
   },
   "file_extension": ".py",
   "mimetype": "text/x-python",
   "name": "python",
   "nbconvert_exporter": "python",
   "pygments_lexer": "ipython3",
   "version": "3.12.7"
  }
 },
 "nbformat": 4,
 "nbformat_minor": 5
}
