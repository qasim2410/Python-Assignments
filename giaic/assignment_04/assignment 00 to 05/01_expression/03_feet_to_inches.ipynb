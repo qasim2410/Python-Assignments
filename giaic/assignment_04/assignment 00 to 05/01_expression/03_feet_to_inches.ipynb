{
 "cells": [
  {
   "cell_type": "raw",
   "id": "ff72e1dd-3b50-49e5-8343-10dc59cbc4c3",
   "metadata": {},
   "source": [
    "Converts feet to inches. Feet is an American unit of measurement. There are 12 inches per foot. Foot is the singular, and feet is the plural."
   ]
  },
  {
   "cell_type": "code",
   "execution_count": 1,
   "id": "aa9044e9-8eb9-4a1c-aeee-953b25d832d4",
   "metadata": {},
   "outputs": [
    {
     "name": "stdin",
     "output_type": "stream",
     "text": [
      "Enter the length in feet:  2.3\n"
     ]
    },
    {
     "name": "stdout",
     "output_type": "stream",
     "text": [
      "2.3 feet is equal to 27.599999999999998 inches.\n"
     ]
    }
   ],
   "source": [
    "# Ask the user to enter a length in feet\n",
    "feet = float(input(\"Enter the length in feet: \"))\n",
    "\n",
    "# Convert the feet to inches\n",
    "inches = feet * 12\n",
    "\n",
    "# Display the result\n",
    "print(f\"{feet} feet is equal to {inches} inches.\")"
   ]
  },
  {
   "cell_type": "code",
   "execution_count": null,
   "id": "881637b3-a165-4e1a-8180-4e21d86fac5f",
   "metadata": {},
   "outputs": [],
   "source": []
  }
 ],
 "metadata": {
  "kernelspec": {
   "display_name": "Python 3 (ipykernel)",
   "language": "python",
   "name": "python3"
  },
  "language_info": {
   "codemirror_mode": {
    "name": "ipython",
    "version": 3
   },
   "file_extension": ".py",
   "mimetype": "text/x-python",
   "name": "python",
   "nbconvert_exporter": "python",
   "pygments_lexer": "ipython3",
   "version": "3.12.7"
  }
 },
 "nbformat": 4,
 "nbformat_minor": 5
}
