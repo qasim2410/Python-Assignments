{
 "cells": [
  {
   "cell_type": "raw",
   "id": "3f9a18e8-e67d-4529-b5fa-f5fbf371b1c0",
   "metadata": {},
   "source": [
    "Write a program which prompts the user for an adjective, then a noun, then a verb, and then prints a fun sentence with those words!\n",
    "\n",
    "Mad Libs is a word game where players are prompted for one word at a time, and the words are eventually filled into the blanks of a word template to make an entertaining story! We've provided you with the beginning of a sentence (the SENTENCE_START constant) which will end in a user-inputted adjective, noun, and then verb.\n",
    "\n",
    "Here's a sample run (user input is in bold italics):\n",
    "\n",
    "Please type an adjective and press enter. tiny\n",
    "\n",
    "Please type a noun and press enter. plant\n",
    "\n",
    "Please type a verb and press enter. fly\n",
    "\n",
    "Code in Place is fun. I learned to program and used Python to make my tiny plant fly!"
   ]
  },
  {
   "cell_type": "code",
   "execution_count": 3,
   "id": "cf98f028-6010-4dc7-9654-cf2e819ec9df",
   "metadata": {},
   "outputs": [
    {
     "name": "stdin",
     "output_type": "stream",
     "text": [
      "Please type an adjective and press enter:  beautiful sunset\n",
      "Please type a noun and press enter:  Red: apple\n",
      "Please type a verb and press enter:  good\n"
     ]
    },
    {
     "name": "stdout",
     "output_type": "stream",
     "text": [
      "Code in Place is fun. I learned to program and used Python to make my beautiful sunset Red: apple good!\n"
     ]
    }
   ],
   "source": [
    "# Constants\n",
    "SENTENCE_START = \"Code in Place is fun. I learned to program and used Python to make my\"\n",
    "\n",
    "# Prompt the user for an adjective, noun, and verb\n",
    "adjective = input(\"Please type an adjective and press enter: \")\n",
    "noun = input(\"Please type a noun and press enter: \")\n",
    "verb = input(\"Please type a verb and press enter: \")\n",
    "\n",
    "# Create the sentence using the user's inputs\n",
    "sentence = f\"{SENTENCE_START} {adjective} {noun} {verb}!\"\n",
    "\n",
    "# Print the result\n",
    "print(sentence)"
   ]
  },
  {
   "cell_type": "code",
   "execution_count": null,
   "id": "499e01ec-86bb-4a70-95a2-6c7555b694da",
   "metadata": {},
   "outputs": [],
   "source": []
  }
 ],
 "metadata": {
  "kernelspec": {
   "display_name": "Python 3 (ipykernel)",
   "language": "python",
   "name": "python3"
  },
  "language_info": {
   "codemirror_mode": {
    "name": "ipython",
    "version": 3
   },
   "file_extension": ".py",
   "mimetype": "text/x-python",
   "name": "python",
   "nbconvert_exporter": "python",
   "pygments_lexer": "ipython3",
   "version": "3.12.7"
  }
 },
 "nbformat": 4,
 "nbformat_minor": 5
}
