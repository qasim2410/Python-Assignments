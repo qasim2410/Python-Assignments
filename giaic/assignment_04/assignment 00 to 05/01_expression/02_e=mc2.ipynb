{
 "cells": [
  {
   "cell_type": "raw",
   "id": "19aa924e-e596-431a-a59b-725515036b8a",
   "metadata": {},
   "source": [
    "Write a program that continually reads in mass from the user and then outputs the equivalent energy using Einstein's mass-energy equivalence formula (E stands for energy, m stands for mass, and C is the speed of light:\n",
    "\n",
    "E = m * c**2\n",
    "\n",
    "Almost 100 years ago, Albert Einstein famously discovered that mass and energy are interchangeable and are related by the above equation. You should ask the user for mass (m) in kilograms and use a constant value for the speed of light -- C = 299792458 m/s.\n",
    "\n",
    "Here's a sample run of the program (user input is in bold italics):\n",
    "\n",
    "Enter kilos of mass: 100\n",
    "\n",
    "e = m * C^2...\n",
    "\n",
    "m = 100.0 kg\n",
    "\n",
    "C = 299792458 m/s\n",
    "\n",
    "8.987551787368176e+18 joules of energy!"
   ]
  },
  {
   "cell_type": "code",
   "execution_count": null,
   "id": "64c3cd52-50ce-41df-8785-4ae7c9ca72fd",
   "metadata": {},
   "outputs": [
    {
     "name": "stdin",
     "output_type": "stream",
     "text": [
      "Enter kilos of mass:  33\n"
     ]
    },
    {
     "name": "stdout",
     "output_type": "stream",
     "text": [
      "\n",
      "e = m * C^2...\n",
      "\n",
      "m = 33.0 kg\n",
      "C = 299792458 m/s\n",
      "2.965892089831498e+18 joules of energy!\n",
      "\n"
     ]
    }
   ],
   "source": [
    "# Define the speed of light constant\n",
    "C = 299792458  # Speed of light in meters per second\n",
    "\n",
    "# Continuously prompt the user for mass and calculate energy\n",
    "while True:\n",
    "    # Prompt the user to enter mass in kilograms\n",
    "    mass = float(input(\"Enter kilos of mass: \"))\n",
    "    \n",
    "    # Calculate the energy using the mass-energy equivalence formula\n",
    "    energy = mass * C**2\n",
    "    \n",
    "    # Display the results\n",
    "    print(f\"\\ne = m * C^2...\\n\")\n",
    "    print(f\"m = {mass} kg\")\n",
    "    print(f\"C = {C} m/s\")\n",
    "    print(f\"{energy} joules of energy!\\n\")"
   ]
  },
  {
   "cell_type": "code",
   "execution_count": null,
   "id": "1b8fb782-ba64-4c36-95ae-cc1b9ea8b4e7",
   "metadata": {},
   "outputs": [],
   "source": []
  }
 ],
 "metadata": {
  "kernelspec": {
   "display_name": "Python 3 (ipykernel)",
   "language": "python",
   "name": "python3"
  },
  "language_info": {
   "codemirror_mode": {
    "name": "ipython",
    "version": 3
   },
   "file_extension": ".py",
   "mimetype": "text/x-python",
   "name": "python",
   "nbconvert_exporter": "python",
   "pygments_lexer": "ipython3",
   "version": "3.12.7"
  }
 },
 "nbformat": 4,
 "nbformat_minor": 5
}
