{
 "cells": [
  {
   "cell_type": "raw",
   "id": "51ebb195-1f81-40a8-8022-dc62161afcf9",
   "metadata": {},
   "source": [
    "Ask the user for two numbers, one at a time, and then print the result of dividing the first number by the second and also the remainder of the division.\n",
    "\n",
    "Here's a sample run of the program (user input is in bold italics):\n",
    "\n",
    "Please enter an integer to be divided: 5\n",
    "\n",
    "Please enter an integer to divide by: 3\n",
    "\n",
    "The result of this division is 1 with a remainder of 2"
   ]
  },
  {
   "cell_type": "code",
   "execution_count": 9,
   "id": "4d67940f-caef-47dd-9a52-b24af8e733ea",
   "metadata": {},
   "outputs": [
    {
     "name": "stdin",
     "output_type": "stream",
     "text": [
      "Please enter an integer to be divided:  8\n",
      "Please enter an integer to divide by:  3\n"
     ]
    },
    {
     "name": "stdout",
     "output_type": "stream",
     "text": [
      "The result of this division is 2 with a remainder of 2\n"
     ]
    }
   ],
   "source": [
    "# Ask the user for the first integer (numerator)\n",
    "num1 = int(input(\"Please enter an integer to be divided: \"))\n",
    "\n",
    "# Ask the user for the second integer (denominator)\n",
    "num2 = int(input(\"Please enter an integer to divide by: \"))\n",
    "\n",
    "# Perform the division and calculate the remainder\n",
    "quotient = num1 // num2  # Integer division\n",
    "remainder = num1 % num2  # Modulo operation to get the remainder\n",
    "\n",
    "# Print the result\n",
    "print(f\"The result of this division is {quotient} with a remainder of {remainder}\")"
   ]
  },
  {
   "cell_type": "code",
   "execution_count": null,
   "id": "2434e727-8121-4a19-8330-effd45ff2b28",
   "metadata": {},
   "outputs": [],
   "source": []
  }
 ],
 "metadata": {
  "kernelspec": {
   "display_name": "Python 3 (ipykernel)",
   "language": "python",
   "name": "python3"
  },
  "language_info": {
   "codemirror_mode": {
    "name": "ipython",
    "version": 3
   },
   "file_extension": ".py",
   "mimetype": "text/x-python",
   "name": "python",
   "nbconvert_exporter": "python",
   "pygments_lexer": "ipython3",
   "version": "3.12.7"
  }
 },
 "nbformat": 4,
 "nbformat_minor": 5
}
