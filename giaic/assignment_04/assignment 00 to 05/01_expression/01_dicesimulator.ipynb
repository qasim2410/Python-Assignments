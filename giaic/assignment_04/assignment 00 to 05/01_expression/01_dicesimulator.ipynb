{
 "cells": [
  {
   "cell_type": "raw",
   "id": "c30ac64a-1222-4864-95f7-e7fc01512df2",
   "metadata": {},
   "source": [
    "Simulate rolling two dice, three times. Prints the results of each die roll. This program is used to show how variable scope works."
   ]
  },
  {
   "cell_type": "code",
   "execution_count": 1,
   "id": "31da506e-24c3-4cf4-b839-a7a6865f78e8",
   "metadata": {},
   "outputs": [
    {
     "name": "stdout",
     "output_type": "stream",
     "text": [
      "Roll 1: Die 1 = 3, Die 2 = 4\n",
      "Roll 2: Die 1 = 1, Die 2 = 1\n",
      "Roll 3: Die 1 = 2, Die 2 = 5\n"
     ]
    }
   ],
   "source": [
    "import random\n",
    "\n",
    "# Simulate rolling two dice three times\n",
    "for roll in range(3):\n",
    "    # Roll two dice\n",
    "    die1 = random.randint(1, 6)\n",
    "    die2 = random.randint(1, 6)\n",
    "\n",
    "    # Print the results of the roll\n",
    "    print(f\"Roll {roll + 1}: Die 1 = {die1}, Die 2 = {die2}\")"
   ]
  },
  {
   "cell_type": "code",
   "execution_count": null,
   "id": "bc8bb901-c8d1-4061-8f79-dd256ec02dbc",
   "metadata": {},
   "outputs": [],
   "source": []
  }
 ],
 "metadata": {
  "kernelspec": {
   "display_name": "Python 3 (ipykernel)",
   "language": "python",
   "name": "python3"
  },
  "language_info": {
   "codemirror_mode": {
    "name": "ipython",
    "version": 3
   },
   "file_extension": ".py",
   "mimetype": "text/x-python",
   "name": "python",
   "nbconvert_exporter": "python",
   "pygments_lexer": "ipython3",
   "version": "3.12.7"
  }
 },
 "nbformat": 4,
 "nbformat_minor": 5
}
