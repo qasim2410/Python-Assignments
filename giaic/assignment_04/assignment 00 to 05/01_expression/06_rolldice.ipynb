{
 "cells": [
  {
   "cell_type": "raw",
   "id": "4eb65a2a-b9f7-4356-b9be-70cc5e1da84f",
   "metadata": {},
   "source": [
    "Simulate rolling two dice, and prints results of each roll as well as the total."
   ]
  },
  {
   "cell_type": "code",
   "execution_count": 1,
   "id": "1783a14e-b798-4286-a52c-f2d28600ad76",
   "metadata": {},
   "outputs": [
    {
     "name": "stdout",
     "output_type": "stream",
     "text": [
      "Die 1 rolled: 1\n",
      "Die 2 rolled: 5\n",
      "Total of both dice: 6\n"
     ]
    }
   ],
   "source": [
    "import random  # Import the random module to generate random numbers\n",
    "\n",
    "# Simulate rolling two dice\n",
    "die1 = random.randint(1, 6)  # Roll the first die (random number between 1 and 6)\n",
    "die2 = random.randint(1, 6)  # Roll the second die (random number between 1 and 6)\n",
    "\n",
    "# Calculate the total of the two dice rolls\n",
    "total = die1 + die2\n",
    "\n",
    "# Print the results\n",
    "print(f\"Die 1 rolled: {die1}\")\n",
    "print(f\"Die 2 rolled: {die2}\")\n",
    "print(f\"Total of both dice: {total}\")"
   ]
  },
  {
   "cell_type": "code",
   "execution_count": null,
   "id": "f5381c29-0f0a-40ca-85ba-0ddae089173d",
   "metadata": {},
   "outputs": [],
   "source": []
  }
 ],
 "metadata": {
  "kernelspec": {
   "display_name": "Python 3 (ipykernel)",
   "language": "python",
   "name": "python3"
  },
  "language_info": {
   "codemirror_mode": {
    "name": "ipython",
    "version": 3
   },
   "file_extension": ".py",
   "mimetype": "text/x-python",
   "name": "python",
   "nbconvert_exporter": "python",
   "pygments_lexer": "ipython3",
   "version": "3.12.7"
  }
 },
 "nbformat": 4,
 "nbformat_minor": 5
}
