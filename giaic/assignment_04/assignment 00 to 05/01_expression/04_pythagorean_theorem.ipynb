{
 "cells": [
  {
   "cell_type": "raw",
   "id": "5fe16253-363e-437d-8815-ea1cbcf0b304",
   "metadata": {},
   "source": [
    "Write a program that asks the user for the lengths of the two perpendicular sides of a right triangle and outputs the length of the third side (the hypotenuse) using the Pythagorean theorem!\n",
    "\n",
    "The Pythagorean theorem, named after the ancient Greek thinker, Pythagoras, is a fundamental relation in geometry. It states that in a right triangle, the square of the hypotenuse is equal to the sum of the square of the other two sides.\n",
    "\n",
    "For instance, let's consider a right triangle ABC, with the right angle located at C. According to the Pythagorean theorem:\n",
    "\n",
    "BC ** 2 = AB ** 2 + AC ** 2\n",
    "\n",
    "Your code should read in the lengths of the sides AB and AC, and that outputs the length of the hypotenuse (BC). You will probably find math.sqrt() to be useful.\n",
    "\n",
    "Here's a sample run of the program (user input is in bold italics):\n",
    "\n",
    "Enter the length of AB: 3\n",
    "\n",
    "Enter the length of AC: 4\n",
    "\n",
    "The length of BC (the hypotenuse) is: 5.0"
   ]
  },
  {
   "cell_type": "code",
   "execution_count": 1,
   "id": "e63a5820-a40d-4679-8a2c-d68c951c245e",
   "metadata": {},
   "outputs": [
    {
     "name": "stdin",
     "output_type": "stream",
     "text": [
      "Enter the length of AB:  22\n",
      "Enter the length of AC:  54\n"
     ]
    },
    {
     "name": "stdout",
     "output_type": "stream",
     "text": [
      "The length of BC (the hypotenuse) is: 58.309518948453004\n"
     ]
    }
   ],
   "source": [
    "import math  # Import the math module to use sqrt() for square root calculation\n",
    "\n",
    "# Ask the user for the lengths of the two perpendicular sides\n",
    "AB = float(input(\"Enter the length of AB: \"))\n",
    "AC = float(input(\"Enter the length of AC: \"))\n",
    "\n",
    "# Calculate the length of the hypotenuse using the Pythagorean theorem\n",
    "BC = math.sqrt(AB**2 + AC**2)\n",
    "\n",
    "# Output the length of the hypotenuse\n",
    "print(f\"The length of BC (the hypotenuse) is: {BC}\")"
   ]
  },
  {
   "cell_type": "code",
   "execution_count": null,
   "id": "8611febe-4824-418f-afda-522ccd82664d",
   "metadata": {},
   "outputs": [],
   "source": []
  }
 ],
 "metadata": {
  "kernelspec": {
   "display_name": "Python 3 (ipykernel)",
   "language": "python",
   "name": "python3"
  },
  "language_info": {
   "codemirror_mode": {
    "name": "ipython",
    "version": 3
   },
   "file_extension": ".py",
   "mimetype": "text/x-python",
   "name": "python",
   "nbconvert_exporter": "python",
   "pygments_lexer": "ipython3",
   "version": "3.12.7"
  }
 },
 "nbformat": 4,
 "nbformat_minor": 5
}
