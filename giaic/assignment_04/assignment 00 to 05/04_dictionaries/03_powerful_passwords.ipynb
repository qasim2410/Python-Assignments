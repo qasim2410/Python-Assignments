{
 "cells": [
  {
   "cell_type": "raw",
   "id": "6949e47b-b791-4068-b002-c94c56cc83ba",
   "metadata": {},
   "source": [
    "You want to be safe online and use different passwords for different websites. However, you are forgetful at times and want to make a program that can match which password belongs to which website without storing the actual password!\n",
    "\n",
    "This can be done via something called hashing. Hashing is when we take something and convert it into a different, unique identifier. This is done using a hash function. Luckily, there are several resources that can help us with this.\n",
    "\n",
    "For example, using a hash function called SHA256(...) something as simple as\n",
    "\n",
    "hello\n",
    "\n",
    "can be hashed into a much more complex\n",
    "\n",
    "2cf24dba5fb0a30e26e83b2ac5b9e29e1b161e5c1fa7425e73043362938b9824\n",
    "\n",
    "Fill out the login(...) function for a website that hashes their passwords. Login should return True if an email's stored password hash in stored_logins is the same as the hash of password_to_check.\n",
    "\n",
    "(Hint. You will need to use the provided hash_password(...) function. You don't necessarily need to know how it works, just know that hash_password(...) returns the hash for the password!)"
   ]
  },
  {
   "cell_type": "code",
   "execution_count": 3,
   "id": "7a6836c7-abcb-407b-ac21-2b1cc0345dff",
   "metadata": {},
   "outputs": [
    {
     "name": "stdout",
     "output_type": "stream",
     "text": [
      "Login successful!\n"
     ]
    }
   ],
   "source": [
    "import hashlib\n",
    "\n",
    "# Assume this function is provided, it hashes the password using SHA256\n",
    "def hash_password(password):\n",
    "    return hashlib.sha256(password.encode()).hexdigest()\n",
    "\n",
    "# A dictionary of email addresses and their stored password hashes\n",
    "stored_logins = {\n",
    "    'user@example.com': hash_password('password123'),\n",
    "    'admin@website.com': hash_password('adminPassword'),\n",
    "    'guest@site.com': hash_password('guestPass')\n",
    "}\n",
    "\n",
    "# Login function that verifies if the hashed password matches the stored hash\n",
    "def login(email, password_to_check):\n",
    "    # Check if the email exists in the stored_logins dictionary\n",
    "    if email in stored_logins:\n",
    "        # Compare the hash of the entered password with the stored hash\n",
    "        if hash_password(password_to_check) == stored_logins[email]:\n",
    "            return True  # Login successful\n",
    "        else:\n",
    "            return False  # Incorrect password\n",
    "    else:\n",
    "        return False  # Email not found\n",
    "\n",
    "# Sample usage\n",
    "email_input = 'user@example.com'\n",
    "password_input = 'password123'\n",
    "\n",
    "if login(email_input, password_input):\n",
    "    print(\"Login successful!\")\n",
    "else:\n",
    "    print(\"Login failed.\")"
   ]
  },
  {
   "cell_type": "code",
   "execution_count": null,
   "id": "11960003-efaa-4d18-badc-e9ab8da77387",
   "metadata": {},
   "outputs": [],
   "source": []
  }
 ],
 "metadata": {
  "kernelspec": {
   "display_name": "Python 3 (ipykernel)",
   "language": "python",
   "name": "python3"
  },
  "language_info": {
   "codemirror_mode": {
    "name": "ipython",
    "version": 3
   },
   "file_extension": ".py",
   "mimetype": "text/x-python",
   "name": "python",
   "nbconvert_exporter": "python",
   "pygments_lexer": "ipython3",
   "version": "3.12.7"
  }
 },
 "nbformat": 4,
 "nbformat_minor": 5
}
