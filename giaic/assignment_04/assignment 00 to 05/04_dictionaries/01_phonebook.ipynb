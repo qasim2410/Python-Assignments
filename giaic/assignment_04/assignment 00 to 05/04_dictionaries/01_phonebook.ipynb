{
 "cells": [
  {
   "cell_type": "code",
   "execution_count": null,
   "id": "470ee00f-094c-4e1d-af11-ff5381dea0d7",
   "metadata": {},
   "outputs": [],
   "source": []
  },
  {
   "cell_type": "code",
   "execution_count": 1,
   "id": "6d27fd93-3321-41e2-849f-86450bd58404",
   "metadata": {},
   "outputs": [
    {
     "name": "stdout",
     "output_type": "stream",
     "text": [
      "\n",
      "Phonebook Menu:\n",
      "1. Add Entry\n",
      "2. Lookup Entry\n",
      "3. Remove Entry\n",
      "4. Exit\n"
     ]
    },
    {
     "name": "stdin",
     "output_type": "stream",
     "text": [
      "Please choose an option (1-4):  1\n",
      "Enter name:  qasim hussain\n",
      "Enter phone number:  098888\n"
     ]
    },
    {
     "name": "stdout",
     "output_type": "stream",
     "text": [
      "Added qasim hussain: 098888\n",
      "\n",
      "Phonebook Menu:\n",
      "1. Add Entry\n",
      "2. Lookup Entry\n",
      "3. Remove Entry\n",
      "4. Exit\n"
     ]
    },
    {
     "name": "stdin",
     "output_type": "stream",
     "text": [
      "Please choose an option (1-4):  2\n",
      "Enter name to look up:  qasim hussain\n"
     ]
    },
    {
     "name": "stdout",
     "output_type": "stream",
     "text": [
      "qasim hussain's phone number is 098888\n",
      "\n",
      "Phonebook Menu:\n",
      "1. Add Entry\n",
      "2. Lookup Entry\n",
      "3. Remove Entry\n",
      "4. Exit\n"
     ]
    },
    {
     "name": "stdin",
     "output_type": "stream",
     "text": [
      "Please choose an option (1-4):  3\n",
      "Enter name to remove:  qasim\n"
     ]
    },
    {
     "name": "stdout",
     "output_type": "stream",
     "text": [
      "qasim is not in the phonebook.\n",
      "\n",
      "Phonebook Menu:\n",
      "1. Add Entry\n",
      "2. Lookup Entry\n",
      "3. Remove Entry\n",
      "4. Exit\n"
     ]
    },
    {
     "name": "stdin",
     "output_type": "stream",
     "text": [
      "Please choose an option (1-4):  3\n",
      "Enter name to remove:  qasim hussain\n"
     ]
    },
    {
     "name": "stdout",
     "output_type": "stream",
     "text": [
      "Removed qasim hussain from the phonebook.\n",
      "\n",
      "Phonebook Menu:\n",
      "1. Add Entry\n",
      "2. Lookup Entry\n",
      "3. Remove Entry\n",
      "4. Exit\n"
     ]
    },
    {
     "name": "stdin",
     "output_type": "stream",
     "text": [
      "Please choose an option (1-4):  4\n"
     ]
    },
    {
     "name": "stdout",
     "output_type": "stream",
     "text": [
      "Exiting phonebook.\n"
     ]
    }
   ],
   "source": [
    "# Initialize an empty dictionary to represent the phonebook\n",
    "phonebook = {}\n",
    "\n",
    "# Function to add a new entry to the phonebook\n",
    "def add_entry(name, phone_number):\n",
    "    phonebook[name] = phone_number\n",
    "    print(f\"Added {name}: {phone_number}\")\n",
    "\n",
    "# Function to search for a phone number by name\n",
    "def lookup_entry(name):\n",
    "    if name in phonebook:\n",
    "        print(f\"{name}'s phone number is {phonebook[name]}\")\n",
    "    else:\n",
    "        print(f\"{name} is not in the phonebook.\")\n",
    "\n",
    "# Function to remove an entry from the phonebook\n",
    "def remove_entry(name):\n",
    "    if name in phonebook:\n",
    "        del phonebook[name]\n",
    "        print(f\"Removed {name} from the phonebook.\")\n",
    "    else:\n",
    "        print(f\"{name} is not in the phonebook.\")\n",
    "\n",
    "# Main loop to interact with the user\n",
    "while True:\n",
    "    print(\"\\nPhonebook Menu:\")\n",
    "    print(\"1. Add Entry\")\n",
    "    print(\"2. Lookup Entry\")\n",
    "    print(\"3. Remove Entry\")\n",
    "    print(\"4. Exit\")\n",
    "\n",
    "    choice = input(\"Please choose an option (1-4): \")\n",
    "\n",
    "    if choice == \"1\":\n",
    "        name = input(\"Enter name: \")\n",
    "        phone_number = input(\"Enter phone number: \")\n",
    "        add_entry(name, phone_number)\n",
    "    elif choice == \"2\":\n",
    "        name = input(\"Enter name to look up: \")\n",
    "        lookup_entry(name)\n",
    "    elif choice == \"3\":\n",
    "        name = input(\"Enter name to remove: \")\n",
    "        remove_entry(name)\n",
    "    elif choice == \"4\":\n",
    "        print(\"Exiting phonebook.\")\n",
    "        break\n",
    "    else:\n",
    "        print(\"Invalid choice. Please choose a number between 1 and 4.\")"
   ]
  },
  {
   "cell_type": "code",
   "execution_count": null,
   "id": "9594ff0a-8283-47ae-81d9-d51634131852",
   "metadata": {},
   "outputs": [],
   "source": []
  }
 ],
 "metadata": {
  "kernelspec": {
   "display_name": "Python 3 (ipykernel)",
   "language": "python",
   "name": "python3"
  },
  "language_info": {
   "codemirror_mode": {
    "name": "ipython",
    "version": 3
   },
   "file_extension": ".py",
   "mimetype": "text/x-python",
   "name": "python",
   "nbconvert_exporter": "python",
   "pygments_lexer": "ipython3",
   "version": "3.12.7"
  }
 },
 "nbformat": 4,
 "nbformat_minor": 5
}
