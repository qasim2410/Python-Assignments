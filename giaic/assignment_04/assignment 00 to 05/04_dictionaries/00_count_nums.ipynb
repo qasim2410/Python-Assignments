{
 "cells": [
  {
   "cell_type": "raw",
   "id": "da347585-d628-4791-b9f1-052a5747933a",
   "metadata": {},
   "source": [
    "This program counts the number of times each number appears in a list. It uses a dictionary to keep track of the information.\n",
    "\n",
    "An example run of the program looks like this (user input is in blue):\n",
    "\n",
    "Enter a number: 3 Enter a number: 4 Enter a number: 3 Enter a number: 6 Enter a number: 4 Enter a number: 3 Enter a number: 12 Enter a number: 3 appears 3 times. 4 appears 2 times. 6 appears 1 times. 12 appears 1 times."
   ]
  },
  {
   "cell_type": "code",
   "execution_count": 5,
   "id": "571fb61f-6db8-4172-bb10-231a86aa68a2",
   "metadata": {},
   "outputs": [
    {
     "name": "stdin",
     "output_type": "stream",
     "text": [
      "Enter a number:  1\n",
      "Enter a number:  3\n",
      "Enter a number:  5\n",
      "Enter a number:  7\n",
      "Enter a number:  9\n",
      "Enter a number:  7\n",
      "Enter a number:  6\n",
      "Enter a number:  4\n",
      "Enter a number:  2\n",
      "Enter a number:  1\n",
      "Enter a number:  4\n",
      "Enter a number:  5\n",
      "Enter a number:  \n"
     ]
    },
    {
     "name": "stdout",
     "output_type": "stream",
     "text": [
      "1 appears 2 times.\n",
      "3 appears 1 times.\n",
      "5 appears 2 times.\n",
      "7 appears 2 times.\n",
      "9 appears 1 times.\n",
      "6 appears 1 times.\n",
      "4 appears 2 times.\n",
      "2 appears 1 times.\n"
     ]
    }
   ],
   "source": [
    "# Initialize an empty dictionary to store the counts\n",
    "counts = {}\n",
    "\n",
    "# Continuously ask the user for input\n",
    "while True:\n",
    "    num = input(\"Enter a number: \")\n",
    "    \n",
    "    # If the user enters an empty string, stop the loop\n",
    "    if num == \"\":\n",
    "        break\n",
    "    \n",
    "    # Convert the input to an integer\n",
    "    num = int(num)\n",
    "    \n",
    "    # Update the count in the dictionary\n",
    "    if num in counts:\n",
    "        counts[num] += 1\n",
    "    else:\n",
    "        counts[num] = 1\n",
    "\n",
    "# Print the counts for each number\n",
    "for num, count in counts.items():\n",
    "    print(f\"{num} appears {count} times.\")"
   ]
  },
  {
   "cell_type": "code",
   "execution_count": null,
   "id": "39ca3bb9-a214-4c54-b3ac-5e5b963996e2",
   "metadata": {},
   "outputs": [],
   "source": []
  }
 ],
 "metadata": {
  "kernelspec": {
   "display_name": "Python 3 (ipykernel)",
   "language": "python",
   "name": "python3"
  },
  "language_info": {
   "codemirror_mode": {
    "name": "ipython",
    "version": 3
   },
   "file_extension": ".py",
   "mimetype": "text/x-python",
   "name": "python",
   "nbconvert_exporter": "python",
   "pygments_lexer": "ipython3",
   "version": "3.12.7"
  }
 },
 "nbformat": 4,
 "nbformat_minor": 5
}
