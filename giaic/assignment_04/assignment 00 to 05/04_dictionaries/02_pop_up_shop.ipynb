{
 "cells": [
  {
   "cell_type": "raw",
   "id": "1c51777a-1e5d-47ef-99ce-befbf41487ae",
   "metadata": {},
   "source": [
    "There's a small fruit shop nearby your house that you like to buy from. Since you buy several fruit at a time, you want to keep track of how much the fruit will cost before you go. Luckily you wrote down what fruits were available and how much one of each fruit costs.\n",
    "\n",
    "Write a program that loops through a dictionary of fruits, prompting the user to see how many of each fruit they want to buy, and then prints out the total combined cost of all of the fruits.\n",
    "\n",
    "Here is an example run of the program (user input is in bold italics):\n",
    "\n",
    "How many (apple) do you want?: 2\n",
    "\n",
    "How many (durian) do you want?: 0\n",
    "\n",
    "How many (jackfruit) do you want?: 1\n",
    "\n",
    "How many (kiwi) do you want?: 0\n",
    "\n",
    "How many (rambutan) do you want?: 1\n",
    "\n",
    "How many (mango) do you want?: 3\n",
    "\n",
    "Your total is $99.5"
   ]
  },
  {
   "cell_type": "code",
   "execution_count": 3,
   "id": "8856138f-0ceb-4fea-bc51-1c09b51c9e74",
   "metadata": {},
   "outputs": [
    {
     "name": "stdin",
     "output_type": "stream",
     "text": [
      "How many (apple) do you want?:  20\n",
      "How many (durian) do you want?:  5\n",
      "How many (jackfruit) do you want?:  9\n",
      "How many (kiwi) do you want?:  60\n",
      "How many (rambutan) do you want?:  1\n",
      "How many (mango) do you want?:  12344\n"
     ]
    },
    {
     "name": "stdout",
     "output_type": "stream",
     "text": [
      "Your total is $24949.50\n"
     ]
    }
   ],
   "source": [
    "# Dictionary of fruit prices per unit\n",
    "fruit_prices = {\n",
    "    'apple': 1.5,\n",
    "    'durian': 5.0,\n",
    "    'jackfruit': 2.5,\n",
    "    'kiwi': 3.0,\n",
    "    'rambutan': 4.0,\n",
    "    'mango': 2.0\n",
    "}\n",
    "\n",
    "# Initialize total cost\n",
    "total_cost = 0\n",
    "\n",
    "# Loop through each fruit in the dictionary and ask the user how many they want\n",
    "for fruit, price in fruit_prices.items():\n",
    "    quantity = int(input(f\"How many ({fruit}) do you want?: \"))  # Prompt for the quantity of each fruit\n",
    "    total_cost += price * quantity  # Calculate the total cost\n",
    "\n",
    "# Print out the final total cost\n",
    "print(f\"Your total is ${total_cost:.2f}\")"
   ]
  },
  {
   "cell_type": "code",
   "execution_count": null,
   "id": "d6bb8de0-e0c6-44c6-8522-2d87efce972a",
   "metadata": {},
   "outputs": [],
   "source": []
  }
 ],
 "metadata": {
  "kernelspec": {
   "display_name": "Python 3 (ipykernel)",
   "language": "python",
   "name": "python3"
  },
  "language_info": {
   "codemirror_mode": {
    "name": "ipython",
    "version": 3
   },
   "file_extension": ".py",
   "mimetype": "text/x-python",
   "name": "python",
   "nbconvert_exporter": "python",
   "pygments_lexer": "ipython3",
   "version": "3.12.7"
  }
 },
 "nbformat": 4,
 "nbformat_minor": 5
}
