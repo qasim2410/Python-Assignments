{
 "cells": [
  {
   "cell_type": "raw",
   "id": "03f85521-0b6a-4031-9d92-bfe2c7d130e9",
   "metadata": {},
   "source": [
    "Write a program to solve this age-related riddle!\n",
    "\n",
    "Anton, Beth, Chen, Drew, and Ethan are all friends. Their ages are as follows:\n",
    "\n",
    "Anton is 21 years old.\n",
    "\n",
    "Beth is 6 years older than Anton.\n",
    "\n",
    "Chen is 20 years older than Beth.\n",
    "\n",
    "Drew is as old as Chen's age plus Anton's age.\n",
    "\n",
    "Ethan is the same age as Chen.\n",
    "\n",
    "Your code should store each person's age to a variable and print their names and ages at the end. The autograder is sensitive to capitalization and punctuation, be careful! Your solution should look like this (the below numbers are made up -- your solution should have the correct values!):"
   ]
  },
  {
   "cell_type": "code",
   "execution_count": 4,
   "id": "3e5fb8e7-3593-4607-8dbb-273b16c121c7",
   "metadata": {},
   "outputs": [
    {
     "name": "stdout",
     "output_type": "stream",
     "text": [
      "Anton is 21 years old.\n",
      "Beth is 27 years old.\n",
      "Chen is 47 years old.\n",
      "Drew is 68 years old.\n",
      "Ethan is 47 years old.\n"
     ]
    }
   ],
   "source": [
    "# Store each person's age to a variable\n",
    "anton_age = 21\n",
    "beth_age = anton_age + 6  # Beth is 6 years older than Anton\n",
    "chen_age = beth_age + 20  # Chen is 20 years older than Beth\n",
    "drew_age = chen_age + anton_age  # Drew is as old as Chen's age plus Anton's age\n",
    "ethan_age = chen_age  # Ethan is the same age as Chen\n",
    "\n",
    "# Print each person's name and age\n",
    "print(f\"Anton is {anton_age} years old.\")\n",
    "print(f\"Beth is {beth_age} years old.\")\n",
    "print(f\"Chen is {chen_age} years old.\")\n",
    "print(f\"Drew is {drew_age} years old.\")\n",
    "print(f\"Ethan is {ethan_age} years old.\")"
   ]
  },
  {
   "cell_type": "code",
   "execution_count": null,
   "id": "47d96536-58d8-42fc-b9ad-b3fb75bd7c2a",
   "metadata": {},
   "outputs": [],
   "source": []
  }
 ],
 "metadata": {
  "kernelspec": {
   "display_name": "Python 3 (ipykernel)",
   "language": "python",
   "name": "python3"
  },
  "language_info": {
   "codemirror_mode": {
    "name": "ipython",
    "version": 3
   },
   "file_extension": ".py",
   "mimetype": "text/x-python",
   "name": "python",
   "nbconvert_exporter": "python",
   "pygments_lexer": "ipython3",
   "version": "3.12.7"
  }
 },
 "nbformat": 4,
 "nbformat_minor": 5
}
