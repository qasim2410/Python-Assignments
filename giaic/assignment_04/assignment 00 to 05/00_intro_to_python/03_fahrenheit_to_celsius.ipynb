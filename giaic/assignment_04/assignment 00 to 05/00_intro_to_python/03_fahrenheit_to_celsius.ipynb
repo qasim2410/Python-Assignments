{
 "cells": [
  {
   "cell_type": "raw",
   "id": "ab44869d-c898-4eda-a18f-aaa95005d49a",
   "metadata": {},
   "source": [
    "Write a program which prompts the user for a temperature in Fahrenheit (this can be a number with decimal places!) and outputs the temperature converted to Celsius.\n",
    "\n",
    "The Celsius scale is widely used to measure temperature, but places still use Fahrenheit. Fahrenheit is another unit for temperature, but the scale is different from Celsius -- for example, 0 degrees Celsius is 32 degrees Fahrenheit!\n",
    "\n",
    "The equation you should use for converting from Fahrenheit to Celsius is the following:\n",
    "\n",
    "degrees_celsius = (degrees_fahrenheit - 32) * 5.0/9.0\n",
    "\n",
    "(Note. The .0 after the 5 and 9 matters in the line above!!!)\n",
    "\n",
    "Here's a sample run of the program (user input is in bold italics):\n",
    "\n",
    "Enter temperature in Fahrenheit: 76\n",
    "\n",
    "Temperature: 76.0F = 24.444444444444443C"
   ]
  },
  {
   "cell_type": "code",
   "execution_count": 4,
   "id": "d94190b8-1fb4-4c4e-9810-89ffe904ac4f",
   "metadata": {},
   "outputs": [
    {
     "name": "stdin",
     "output_type": "stream",
     "text": [
      "Enter temperature in Fahrenheit:  44\n"
     ]
    },
    {
     "name": "stdout",
     "output_type": "stream",
     "text": [
      "Temperature: 44.0F = 6.666666666666667C\n"
     ]
    }
   ],
   "source": [
    "# Prompt the user for a temperature in Fahrenheit\n",
    "fahrenheit = float(input(\"Enter temperature in Fahrenheit: \"))\n",
    "\n",
    "# Convert the temperature to Celsius\n",
    "celsius = (fahrenheit - 32) * 5.0 / 9.0\n",
    "\n",
    "# Print the temperature in both Fahrenheit and Celsius\n",
    "print(f\"Temperature: {fahrenheit}F = {celsius}C\")"
   ]
  },
  {
   "cell_type": "code",
   "execution_count": null,
   "id": "537127b3-bb79-4edd-935c-caf516c7653c",
   "metadata": {},
   "outputs": [],
   "source": []
  }
 ],
 "metadata": {
  "kernelspec": {
   "display_name": "Python 3 (ipykernel)",
   "language": "python",
   "name": "python3"
  },
  "language_info": {
   "codemirror_mode": {
    "name": "ipython",
    "version": 3
   },
   "file_extension": ".py",
   "mimetype": "text/x-python",
   "name": "python",
   "nbconvert_exporter": "python",
   "pygments_lexer": "ipython3",
   "version": "3.12.7"
  }
 },
 "nbformat": 4,
 "nbformat_minor": 5
}
