{
 "cells": [
  {
   "cell_type": "raw",
   "id": "33ca8ce1-c74f-47e9-b921-34adea38d50a",
   "metadata": {},
   "source": [
    "Write a program which asks the user what their favorite animal is, and then always responds with \"My favorite animal is also ___!\" (the blank should be filled in with the user-inputted animal, of course).\n",
    "\n",
    "Here's a sample run of the program (user input is in bold italics - note the space between the prompt and the user input!):\n",
    "\n",
    "What's your favorite animal? cow\n",
    "\n",
    "My favorite animal is also cow!"
   ]
  },
  {
   "cell_type": "code",
   "execution_count": 3,
   "id": "8f698092-ed5c-46b9-a020-8880f76cdfa8",
   "metadata": {},
   "outputs": [
    {
     "name": "stdin",
     "output_type": "stream",
     "text": [
      "What's your favorite animal?  cow\n"
     ]
    },
    {
     "name": "stdout",
     "output_type": "stream",
     "text": [
      "My favorite animal is also cow!\n"
     ]
    }
   ],
   "source": [
    "# Ask the user for their favorite animal\n",
    "favorite_animal = input(\"What's your favorite animal? \")\n",
    "\n",
    "# Respond with the user's favorite animal\n",
    "print(f\"My favorite animal is also {favorite_animal}!\")"
   ]
  },
  {
   "cell_type": "code",
   "execution_count": null,
   "id": "7a518cfe-a8d6-48ea-af42-e39a25a4937b",
   "metadata": {},
   "outputs": [],
   "source": []
  }
 ],
 "metadata": {
  "kernelspec": {
   "display_name": "Python 3 (ipykernel)",
   "language": "python",
   "name": "python3"
  },
  "language_info": {
   "codemirror_mode": {
    "name": "ipython",
    "version": 3
   },
   "file_extension": ".py",
   "mimetype": "text/x-python",
   "name": "python",
   "nbconvert_exporter": "python",
   "pygments_lexer": "ipython3",
   "version": "3.12.7"
  }
 },
 "nbformat": 4,
 "nbformat_minor": 5
}
