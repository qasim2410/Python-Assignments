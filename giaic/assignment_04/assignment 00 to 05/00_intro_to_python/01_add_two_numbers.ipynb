{
 "cells": [
  {
   "cell_type": "raw",
   "id": "57efaef7-a03c-4687-bfaf-a5781136f8e8",
   "metadata": {},
   "source": [
    "Write a Python program that takes two integer inputs from the user and calculates their sum. The program should perform the following tasks:\n",
    "\n",
    "Prompt the user to enter the first number.\n",
    "\n",
    "Read the input and convert it to an integer.\n",
    "\n",
    "Prompt the user to enter the second number.\n",
    "\n",
    "Read the input and convert it to an integer.\n",
    "\n",
    "Calculate the sum of the two numbers.\n",
    "\n",
    "Print the total sum with an appropriate message.\n",
    "\n",
    "The provided solution demonstrates a working implementation of this problem, where the main() function guides the user through the process of entering two numbers and displays their sum."
   ]
  },
  {
   "cell_type": "code",
   "execution_count": 1,
   "id": "28afee5c-3989-479c-9a73-bd9944fe6e72",
   "metadata": {},
   "outputs": [
    {
     "name": "stdin",
     "output_type": "stream",
     "text": [
      "Enter the first number:  10\n",
      "Enter the second number:  33\n"
     ]
    },
    {
     "name": "stdout",
     "output_type": "stream",
     "text": [
      "The total sum is: 43\n"
     ]
    }
   ],
   "source": [
    "def main():\n",
    "    # Prompt the user to enter the first number\n",
    "    num1 = int(input(\"Enter the first number: \"))\n",
    "    \n",
    "    # Prompt the user to enter the second number\n",
    "    num2 = int(input(\"Enter the second number: \"))\n",
    "    \n",
    "    # Calculate the sum of the two numbers\n",
    "    total_sum = num1 + num2\n",
    "    \n",
    "    # Print the total sum with an appropriate message\n",
    "    print(f\"The total sum is: {total_sum}\")\n",
    "\n",
    "# Call the main function to run the program\n",
    "main()"
   ]
  },
  {
   "cell_type": "code",
   "execution_count": null,
   "id": "4f039ee0-fa5a-4069-b2dc-15f72b614c93",
   "metadata": {},
   "outputs": [],
   "source": []
  }
 ],
 "metadata": {
  "kernelspec": {
   "display_name": "Python 3 (ipykernel)",
   "language": "python",
   "name": "python3"
  },
  "language_info": {
   "codemirror_mode": {
    "name": "ipython",
    "version": 3
   },
   "file_extension": ".py",
   "mimetype": "text/x-python",
   "name": "python",
   "nbconvert_exporter": "python",
   "pygments_lexer": "ipython3",
   "version": "3.12.7"
  }
 },
 "nbformat": 4,
 "nbformat_minor": 5
}
