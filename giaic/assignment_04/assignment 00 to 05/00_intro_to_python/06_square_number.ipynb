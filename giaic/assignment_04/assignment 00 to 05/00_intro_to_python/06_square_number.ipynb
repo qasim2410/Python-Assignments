{
 "cells": [
  {
   "cell_type": "raw",
   "id": "cc695564-cea9-4494-aa81-ae0ff43014cb",
   "metadata": {},
   "source": [
    "Ask the user for a number and print its square (the product of the number times itself).\n",
    "\n",
    "Here's a sample run of the program (user input is in bold italics):\n",
    "\n",
    "Type a number to see its square: 4\n",
    "\n",
    "4.0 squared is 16.0"
   ]
  },
  {
   "cell_type": "code",
   "execution_count": 3,
   "id": "3c4e02c2-7377-4f93-b97a-34a450579d22",
   "metadata": {},
   "outputs": [
    {
     "name": "stdin",
     "output_type": "stream",
     "text": [
      "Type a number to see its square:  44\n"
     ]
    },
    {
     "name": "stdout",
     "output_type": "stream",
     "text": [
      "44.0 squared is 1936.0\n"
     ]
    }
   ],
   "source": [
    "# Prompt the user to input a number\n",
    "number = float(input(\"Type a number to see its square: \"))\n",
    "\n",
    "# Calculate the square of the number\n",
    "square = number ** 2\n",
    "\n",
    "# Print the result\n",
    "print(f\"{number} squared is {square}\")"
   ]
  },
  {
   "cell_type": "code",
   "execution_count": null,
   "id": "e320e1f4-884a-4429-a0e8-67bf1f3239df",
   "metadata": {},
   "outputs": [],
   "source": []
  }
 ],
 "metadata": {
  "kernelspec": {
   "display_name": "Python 3 (ipykernel)",
   "language": "python",
   "name": "python3"
  },
  "language_info": {
   "codemirror_mode": {
    "name": "ipython",
    "version": 3
   },
   "file_extension": ".py",
   "mimetype": "text/x-python",
   "name": "python",
   "nbconvert_exporter": "python",
   "pygments_lexer": "ipython3",
   "version": "3.12.7"
  }
 },
 "nbformat": 4,
 "nbformat_minor": 5
}
