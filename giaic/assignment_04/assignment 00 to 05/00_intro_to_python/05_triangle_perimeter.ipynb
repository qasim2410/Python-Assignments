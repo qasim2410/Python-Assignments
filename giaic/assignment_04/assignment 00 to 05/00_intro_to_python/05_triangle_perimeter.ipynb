{
 "cells": [
  {
   "cell_type": "raw",
   "id": "5bc662bb-4586-4d81-84f2-8626da4f8e30",
   "metadata": {},
   "source": [
    "Prompt the user to enter the lengths of each side of a triangle and then calculate and print the perimeter of the triangle (the sum of all of the side lengths).\n",
    "\n",
    "Here's a sample run of the program (user input is in bold italics):\n",
    "\n",
    "What is the length of side 1? 3\n",
    "\n",
    "What is the length of side 2? 4\n",
    "\n",
    "What is the length of side 3? 5.5\n",
    "\n",
    "The perimeter of the triangle is 12.5"
   ]
  },
  {
   "cell_type": "code",
   "execution_count": 4,
   "id": "e2973a2c-c817-4f3d-a8f9-859dd2cc65a9",
   "metadata": {},
   "outputs": [
    {
     "name": "stdin",
     "output_type": "stream",
     "text": [
      "What is the length of side 1?  22\n",
      "What is the length of side 2?  78\n",
      "What is the length of side 3?  55\n"
     ]
    },
    {
     "name": "stdout",
     "output_type": "stream",
     "text": [
      "The perimeter of the triangle is 155.0\n"
     ]
    }
   ],
   "source": [
    "# Prompt the user to enter the lengths of each side of the triangle\n",
    "side1 = float(input(\"What is the length of side 1? \"))\n",
    "side2 = float(input(\"What is the length of side 2? \"))\n",
    "side3 = float(input(\"What is the length of side 3? \"))\n",
    "\n",
    "# Calculate the perimeter of the triangle\n",
    "perimeter = side1 + side2 + side3\n",
    "\n",
    "# Print the perimeter of the triangle\n",
    "print(f\"The perimeter of the triangle is {perimeter}\")"
   ]
  },
  {
   "cell_type": "code",
   "execution_count": null,
   "id": "b56a60e9-c1a3-46cf-baf0-7e2e85542519",
   "metadata": {},
   "outputs": [],
   "source": []
  }
 ],
 "metadata": {
  "kernelspec": {
   "display_name": "Python 3 (ipykernel)",
   "language": "python",
   "name": "python3"
  },
  "language_info": {
   "codemirror_mode": {
    "name": "ipython",
    "version": 3
   },
   "file_extension": ".py",
   "mimetype": "text/x-python",
   "name": "python",
   "nbconvert_exporter": "python",
   "pygments_lexer": "ipython3",
   "version": "3.12.7"
  }
 },
 "nbformat": 4,
 "nbformat_minor": 5
}
