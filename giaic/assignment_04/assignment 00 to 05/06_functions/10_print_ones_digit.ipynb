{
 "cells": [
  {
   "cell_type": "raw",
   "id": "870f211a-387a-4d96-9335-2b655af6a5c3",
   "metadata": {},
   "source": [
    "Write a function called print_ones_digit , which takes as a parameter an integer num and prints its ones digit. The modulo (remainder) operator, %, should be helpful to you here. Call your function from main()!\n",
    "\n",
    "Here's a sample run (user input is in blue):\n",
    "\n",
    "Enter a number: 42 The ones digit is 2"
   ]
  },
  {
   "cell_type": "code",
   "execution_count": 7,
   "id": "bcf8c543-742f-4d7b-a399-865a43ec077b",
   "metadata": {},
   "outputs": [
    {
     "name": "stdin",
     "output_type": "stream",
     "text": [
      "Enter a number:  55637738383\n"
     ]
    },
    {
     "name": "stdout",
     "output_type": "stream",
     "text": [
      "The ones digit is 3\n"
     ]
    }
   ],
   "source": [
    "# Function to print the ones digit of the number\n",
    "def print_ones_digit(num):\n",
    "    # Use the modulo operator to get the ones digit\n",
    "    ones_digit = num % 10\n",
    "    print(f\"The ones digit is {ones_digit}\")\n",
    "\n",
    "# Main function\n",
    "def main():\n",
    "    # Prompt the user for a number\n",
    "    num = int(input(\"Enter a number: \"))\n",
    "    \n",
    "    # Call the function to print the ones digit\n",
    "    print_ones_digit(num)\n",
    "\n",
    "# Run the main function\n",
    "main()"
   ]
  },
  {
   "cell_type": "code",
   "execution_count": null,
   "id": "d386b9fc-15b7-40c8-8b60-d29ea2c89fb7",
   "metadata": {},
   "outputs": [],
   "source": []
  }
 ],
 "metadata": {
  "kernelspec": {
   "display_name": "Python 3 (ipykernel)",
   "language": "python",
   "name": "python3"
  },
  "language_info": {
   "codemirror_mode": {
    "name": "ipython",
    "version": 3
   },
   "file_extension": ".py",
   "mimetype": "text/x-python",
   "name": "python",
   "nbconvert_exporter": "python",
   "pygments_lexer": "ipython3",
   "version": "3.12.7"
  }
 },
 "nbformat": 4,
 "nbformat_minor": 5
}
