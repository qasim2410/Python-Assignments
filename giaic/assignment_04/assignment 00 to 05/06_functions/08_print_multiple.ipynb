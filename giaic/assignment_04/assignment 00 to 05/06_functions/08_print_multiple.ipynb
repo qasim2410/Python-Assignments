{
 "cells": [
  {
   "cell_type": "raw",
   "id": "28f7a639-08d4-4e30-b30d-81bac84bb642",
   "metadata": {},
   "source": [
    "Fill out print_multiple(message, repeats), which takes as parameters a string message to print, and an integer repeats number of times to print message. We've written the main() function for you, which prompts the user for a message and a number of repeats.\n",
    "\n",
    "Here's a sample run of the program (user input is in blue):\n",
    "\n",
    "Please type a message: Hello! Enter a number of times to repeat your message: 6 Hello! Hello! Hello! Hello! Hello! Hello!"
   ]
  },
  {
   "cell_type": "code",
   "execution_count": 5,
   "id": "b7e79375-69e5-4089-a0a3-0609c73d61cc",
   "metadata": {},
   "outputs": [
    {
     "name": "stdin",
     "output_type": "stream",
     "text": [
      "Please type a message:  python\n",
      "Enter a number of times to repeat your message:  10\n"
     ]
    },
    {
     "name": "stdout",
     "output_type": "stream",
     "text": [
      "python\n",
      "python\n",
      "python\n",
      "python\n",
      "python\n",
      "python\n",
      "python\n",
      "python\n",
      "python\n",
      "python\n"
     ]
    }
   ],
   "source": [
    "# Helper function to print the message multiple times\n",
    "def print_multiple(message, repeats):\n",
    "    for _ in range(repeats):\n",
    "        print(message)\n",
    "\n",
    "# Main function\n",
    "def main():\n",
    "    # Prompt the user for a message\n",
    "    message = input(\"Please type a message: \")\n",
    "    \n",
    "    # Prompt the user for the number of repeats\n",
    "    repeats = int(input(\"Enter a number of times to repeat your message: \"))\n",
    "    \n",
    "    # Call the function to print the message multiple times\n",
    "    print_multiple(message, repeats)\n",
    "\n",
    "# Run the main function\n",
    "main()"
   ]
  },
  {
   "cell_type": "code",
   "execution_count": null,
   "id": "6e27bb85-aa31-47df-bc88-b7bd7649d117",
   "metadata": {},
   "outputs": [],
   "source": []
  }
 ],
 "metadata": {
  "kernelspec": {
   "display_name": "Python 3 (ipykernel)",
   "language": "python",
   "name": "python3"
  },
  "language_info": {
   "codemirror_mode": {
    "name": "ipython",
    "version": 3
   },
   "file_extension": ".py",
   "mimetype": "text/x-python",
   "name": "python",
   "nbconvert_exporter": "python",
   "pygments_lexer": "ipython3",
   "version": "3.12.7"
  }
 },
 "nbformat": 4,
 "nbformat_minor": 5
}
