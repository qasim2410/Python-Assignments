{
 "cells": [
  {
   "cell_type": "raw",
   "id": "765eea01-b356-44f3-871c-1d8196e270e0",
   "metadata": {},
   "source": [
    "Implement the helper function make_sentence(word, part_of_speech) which will take a string word and an integer part_of_speech as parameters and, depending on the part of speech, place the word into one of three sentence templates (or one from your imagination!):\n",
    "\n",
    "If part_of_speech is 0, we will assume the word is a noun and use the template: \"I am excited to add this ____ to my vast collection of them!\"\n",
    "\n",
    "If part_of_speech is 1, we will assume the word is a verb use the template: \"It's so nice outside today it makes me want to ____!\"\n",
    "\n",
    "If part_of_speech is 2, we will assume the word is an adjective and use the template: \"Looking out my window, the sky is big and ____!\" make_sentence(word, part_of_speech) should not return anything, just print the correct sentence with the word filled in the blank.\n",
    "\n",
    "Here's a sample run of the program (user input is in blue):\n",
    "\n",
    "Please type a noun, verb, or adjective: groovy Is this a noun, verb, or adjective? Type 0 for noun, 1 for verb, 2 for adjective: 2 Looking out my window, the sky is big and groovy!"
   ]
  },
  {
   "cell_type": "code",
   "execution_count": 9,
   "id": "92517756-d69c-4e85-a8d2-dee7a54c2d5b",
   "metadata": {},
   "outputs": [
    {
     "name": "stdin",
     "output_type": "stream",
     "text": [
      "Please type a noun, verb, or adjective:  play\n",
      "Is this a noun, verb, or adjective? Type 0 for noun, 1 for verb, 2 for adjective:  2\n"
     ]
    },
    {
     "name": "stdout",
     "output_type": "stream",
     "text": [
      "Looking out my window, the sky is big and play!\n"
     ]
    }
   ],
   "source": [
    "# Helper function to make a sentence based on the part of speech\n",
    "def make_sentence(word, part_of_speech):\n",
    "    if part_of_speech == 0:\n",
    "        # If part_of_speech is 0, assume the word is a noun\n",
    "        print(f\"I am excited to add this {word} to my vast collection of them!\")\n",
    "    elif part_of_speech == 1:\n",
    "        # If part_of_speech is 1, assume the word is a verb\n",
    "        print(f\"It's so nice outside today it makes me want to {word}!\")\n",
    "    elif part_of_speech == 2:\n",
    "        # If part_of_speech is 2, assume the word is an adjective\n",
    "        print(f\"Looking out my window, the sky is big and {word}!\")\n",
    "    else:\n",
    "        # If the part_of_speech value is not 0, 1, or 2, print an error\n",
    "        print(\"Invalid part of speech! Please use 0 for noun, 1 for verb, or 2 for adjective.\")\n",
    "\n",
    "# Main function\n",
    "def main():\n",
    "    # Prompt the user for a word\n",
    "    word = input(\"Please type a noun, verb, or adjective: \")\n",
    "    \n",
    "    # Prompt the user to enter the part of speech\n",
    "    part_of_speech = int(input(\"Is this a noun, verb, or adjective? Type 0 for noun, 1 for verb, 2 for adjective: \"))\n",
    "    \n",
    "    # Call the function to print the appropriate sentence\n",
    "    make_sentence(word, part_of_speech)\n",
    "\n",
    "# Run the main function\n",
    "main()"
   ]
  },
  {
   "cell_type": "code",
   "execution_count": null,
   "id": "8486bd76-167a-48db-8936-7b2bf649447e",
   "metadata": {},
   "outputs": [],
   "source": []
  }
 ],
 "metadata": {
  "kernelspec": {
   "display_name": "Python 3 (ipykernel)",
   "language": "python",
   "name": "python3"
  },
  "language_info": {
   "codemirror_mode": {
    "name": "ipython",
    "version": 3
   },
   "file_extension": ".py",
   "mimetype": "text/x-python",
   "name": "python",
   "nbconvert_exporter": "python",
   "pygments_lexer": "ipython3",
   "version": "3.12.7"
  }
 },
 "nbformat": 4,
 "nbformat_minor": 5
}
