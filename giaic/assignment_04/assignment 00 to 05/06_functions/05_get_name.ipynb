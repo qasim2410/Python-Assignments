{
 "cells": [
  {
   "cell_type": "raw",
   "id": "8ac35aec-d61b-4f73-a10f-be43421c2418",
   "metadata": {},
   "source": [
    "Fill out the get_name() function to return your name as a string! We've written a main() function for you which calls your function to retrieve your name and then prints it in a greeting.\n",
    "\n",
    "Here's a sample run of the program where the name we've decided to return is Sophia (the autograder expects the returned name to be Sophia):\n",
    "\n",
    "Howdy Sophia ! 🤠"
   ]
  },
  {
   "cell_type": "code",
   "execution_count": 1,
   "id": "2daafbfd-25de-48b6-8840-8242d5de2d79",
   "metadata": {},
   "outputs": [
    {
     "name": "stdout",
     "output_type": "stream",
     "text": [
      "Howdy Sophia ! 🤠\n"
     ]
    }
   ],
   "source": [
    "# Function to return your name as a string\n",
    "def get_name():\n",
    "    return \"Sophia\"\n",
    "\n",
    "# Main function to print the greeting\n",
    "def main():\n",
    "    # Call the get_name function to retrieve the name\n",
    "    name = get_name()\n",
    "    \n",
    "    # Print the greeting with the name\n",
    "    print(f\"Howdy {name} ! 🤠\")\n",
    "\n",
    "# Call the main function\n",
    "main()"
   ]
  },
  {
   "cell_type": "code",
   "execution_count": null,
   "id": "7c33eaec-ec02-4f5c-94ec-d53906b0a66f",
   "metadata": {},
   "outputs": [],
   "source": []
  }
 ],
 "metadata": {
  "kernelspec": {
   "display_name": "Python 3 (ipykernel)",
   "language": "python",
   "name": "python3"
  },
  "language_info": {
   "codemirror_mode": {
    "name": "ipython",
    "version": 3
   },
   "file_extension": ".py",
   "mimetype": "text/x-python",
   "name": "python",
   "nbconvert_exporter": "python",
   "pygments_lexer": "ipython3",
   "version": "3.12.7"
  }
 },
 "nbformat": 4,
 "nbformat_minor": 5
}
