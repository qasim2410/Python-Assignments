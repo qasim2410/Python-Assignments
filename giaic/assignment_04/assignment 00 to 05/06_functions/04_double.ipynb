{
 "cells": [
  {
   "cell_type": "raw",
   "id": "2d48b247-a7cd-4aa3-af26-6d62fdf44494",
   "metadata": {},
   "source": [
    "Fill out the double(num) function to return the result of multiplying num by 2. We've written a main() function for you which asks the user for a number, calls your code for double(num) , and prints the result.\n",
    "\n",
    "Here's a sample run of the program (user input in bold italics):\n",
    "\n",
    "Enter a number: 2 Double that is 4"
   ]
  },
  {
   "cell_type": "code",
   "execution_count": 1,
   "id": "361127fe-2ed8-4fe1-bff8-05c28ab269aa",
   "metadata": {},
   "outputs": [
    {
     "name": "stdin",
     "output_type": "stream",
     "text": [
      "Enter a number:  2\n"
     ]
    },
    {
     "name": "stdout",
     "output_type": "stream",
     "text": [
      "Double that is 4\n"
     ]
    }
   ],
   "source": [
    "# Function to double the input number\n",
    "def double(num):\n",
    "    return num * 2\n",
    "\n",
    "# Main function to prompt the user for input and display the result\n",
    "def main():\n",
    "    # Ask the user to enter a number\n",
    "    num = int(input(\"Enter a number: \"))\n",
    "    \n",
    "    # Call the double function and store the result\n",
    "    result = double(num)\n",
    "    \n",
    "    # Print the result\n",
    "    print(f\"Double that is {result}\")\n",
    "\n",
    "# Call the main function\n",
    "main()"
   ]
  },
  {
   "cell_type": "code",
   "execution_count": null,
   "id": "9e483e66-51af-4d2a-b1df-863528e1aa6c",
   "metadata": {},
   "outputs": [],
   "source": []
  }
 ],
 "metadata": {
  "kernelspec": {
   "display_name": "Python 3 (ipykernel)",
   "language": "python",
   "name": "python3"
  },
  "language_info": {
   "codemirror_mode": {
    "name": "ipython",
    "version": 3
   },
   "file_extension": ".py",
   "mimetype": "text/x-python",
   "name": "python",
   "nbconvert_exporter": "python",
   "pygments_lexer": "ipython3",
   "version": "3.12.7"
  }
 },
 "nbformat": 4,
 "nbformat_minor": 5
}
