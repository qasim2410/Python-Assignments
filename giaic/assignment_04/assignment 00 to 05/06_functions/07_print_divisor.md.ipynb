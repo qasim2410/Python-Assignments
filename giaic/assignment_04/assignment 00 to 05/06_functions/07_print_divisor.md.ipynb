{
 "cells": [
  {
   "cell_type": "raw",
   "id": "942ffe4d-7a5f-484f-a02c-5fe1a861f609",
   "metadata": {},
   "source": [
    "Write the helper function print_divisors(num), which takes in a number and prints all of its divisors (all the numbers from 1 to num inclusive that num can be cleanly divided by (there is no remainder to the division). Don't forget to call your function in main()!\n",
    "\n",
    "Here's a sample run (user input is in blue):\n",
    "\n",
    "Enter a number: 12 Here are the divisors of 12 1 2 3 4 6 12"
   ]
  },
  {
   "cell_type": "code",
   "execution_count": 3,
   "id": "0063e3e0-d2ab-44b4-9069-60685466b1c4",
   "metadata": {},
   "outputs": [
    {
     "name": "stdin",
     "output_type": "stream",
     "text": [
      "Enter a number:  100\n"
     ]
    },
    {
     "name": "stdout",
     "output_type": "stream",
     "text": [
      "Here are the divisors of 100:\n",
      "1\n",
      "2\n",
      "4\n",
      "5\n",
      "10\n",
      "20\n",
      "25\n",
      "50\n",
      "100\n"
     ]
    }
   ],
   "source": [
    "# Helper function to print divisors\n",
    "def print_divisors(num):\n",
    "    print(f\"Here are the divisors of {num}:\")\n",
    "    for i in range(1, num + 1):\n",
    "        if num % i == 0:  # If i divides num without remainder\n",
    "            print(i)\n",
    "\n",
    "# Main function\n",
    "def main():\n",
    "    # Prompt the user for input\n",
    "    num = int(input(\"Enter a number: \"))\n",
    "    \n",
    "    # Call the function to print divisors\n",
    "    print_divisors(num)\n",
    "\n",
    "# Run the main function\n",
    "main()"
   ]
  },
  {
   "cell_type": "code",
   "execution_count": null,
   "id": "11f0d094-ca54-4e54-be59-d60f20c437d4",
   "metadata": {},
   "outputs": [],
   "source": []
  }
 ],
 "metadata": {
  "kernelspec": {
   "display_name": "Python 3 (ipykernel)",
   "language": "python",
   "name": "python3"
  },
  "language_info": {
   "codemirror_mode": {
    "name": "ipython",
    "version": 3
   },
   "file_extension": ".py",
   "mimetype": "text/x-python",
   "name": "python",
   "nbconvert_exporter": "python",
   "pygments_lexer": "ipython3",
   "version": "3.12.7"
  }
 },
 "nbformat": 4,
 "nbformat_minor": 5
}
