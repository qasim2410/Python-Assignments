{
 "cells": [
  {
   "cell_type": "raw",
   "id": "31cd90d5-4817-4258-872e-a9dfad289fea",
   "metadata": {},
   "source": [
    "Fill out the function count_even(lst) which\n",
    "\n",
    "first populates a list by prompting the user for integers until they press enter (please use the prompt \"Enter an integer or press enter to stop: \"),\n",
    "\n",
    "and then prints the number of even numbers in the list.\n",
    "\n",
    "If you'd prefer to focus on the second task only, scroll down for our implementation of the first task!"
   ]
  },
  {
   "cell_type": "code",
   "execution_count": 1,
   "id": "7bc5c664-06dc-4a32-b1a8-82ab48bf1fe9",
   "metadata": {},
   "outputs": [
    {
     "name": "stdin",
     "output_type": "stream",
     "text": [
      "Enter an integer or press enter to stop:  4\n",
      "Enter an integer or press enter to stop:  10\n",
      "Enter an integer or press enter to stop:  3\n",
      "Enter an integer or press enter to stop:  111\n",
      "Enter an integer or press enter to stop:  1122\n",
      "Enter an integer or press enter to stop:  \n"
     ]
    },
    {
     "name": "stdout",
     "output_type": "stream",
     "text": [
      "Number of even numbers: 3\n"
     ]
    }
   ],
   "source": [
    "def count_even(lst):\n",
    "    # Initialize a counter for even numbers\n",
    "    even_count = 0\n",
    "\n",
    "    # Loop through the list to count the even numbers\n",
    "    for number in lst:\n",
    "        if number % 2 == 0:  # Check if the number is even\n",
    "            even_count += 1\n",
    "\n",
    "    # Print the count of even numbers\n",
    "    print(\"Number of even numbers:\", even_count)\n",
    "\n",
    "\n",
    "# Main function to populate the list by asking user input\n",
    "def main():\n",
    "    lst = []\n",
    "    while True:\n",
    "        # Ask the user for an integer input\n",
    "        user_input = input(\"Enter an integer or press enter to stop: \")\n",
    "\n",
    "        # If the user presses enter without typing anything, stop\n",
    "        if user_input == \"\":\n",
    "            break\n",
    "\n",
    "        # Try to convert the input to an integer and add to the list\n",
    "        try:\n",
    "            num = int(user_input)\n",
    "            lst.append(num)\n",
    "        except ValueError:\n",
    "            print(\"Please enter a valid integer.\")\n",
    "\n",
    "    # Call count_even function to count even numbers\n",
    "    count_even(lst)\n",
    "\n",
    "# Run the main function\n",
    "main()"
   ]
  },
  {
   "cell_type": "code",
   "execution_count": null,
   "id": "104b7700-7d39-4ae6-814b-7e84461a297e",
   "metadata": {},
   "outputs": [],
   "source": []
  }
 ],
 "metadata": {
  "kernelspec": {
   "display_name": "Python 3 (ipykernel)",
   "language": "python",
   "name": "python3"
  },
  "language_info": {
   "codemirror_mode": {
    "name": "ipython",
    "version": 3
   },
   "file_extension": ".py",
   "mimetype": "text/x-python",
   "name": "python",
   "nbconvert_exporter": "python",
   "pygments_lexer": "ipython3",
   "version": "3.12.7"
  }
 },
 "nbformat": 4,
 "nbformat_minor": 5
}
