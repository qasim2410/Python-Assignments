{
 "cells": [
  {
   "cell_type": "raw",
   "id": "0f6f92bd-176b-4dc5-896a-feb8b1784c39",
   "metadata": {},
   "source": [
    "10 even 11 odd 12 even 13 odd 14 even 15 odd 16 even 17 odd 18 even 19 odd"
   ]
  },
  {
   "cell_type": "code",
   "execution_count": 1,
   "id": "31199689-d198-4b20-a5d6-f952b9f12489",
   "metadata": {},
   "outputs": [
    {
     "name": "stdout",
     "output_type": "stream",
     "text": [
      "10 even\n",
      "11 odd\n",
      "12 even\n",
      "13 odd\n",
      "14 even\n",
      "15 odd\n",
      "16 even\n",
      "17 odd\n",
      "18 even\n",
      "19 odd\n"
     ]
    }
   ],
   "source": [
    "# Loop through numbers from 10 to 19\n",
    "for num in range(10, 20):\n",
    "    if num % 2 == 0:\n",
    "        print(f\"{num} even\")\n",
    "    else:\n",
    "        print(f\"{num} odd\")"
   ]
  },
  {
   "cell_type": "code",
   "execution_count": null,
   "id": "fe752b31-cb53-42b6-8644-2cd674c4eda7",
   "metadata": {},
   "outputs": [],
   "source": []
  }
 ],
 "metadata": {
  "kernelspec": {
   "display_name": "Python 3 (ipykernel)",
   "language": "python",
   "name": "python3"
  },
  "language_info": {
   "codemirror_mode": {
    "name": "ipython",
    "version": 3
   },
   "file_extension": ".py",
   "mimetype": "text/x-python",
   "name": "python",
   "nbconvert_exporter": "python",
   "pygments_lexer": "ipython3",
   "version": "3.12.7"
  }
 },
 "nbformat": 4,
 "nbformat_minor": 5
}
