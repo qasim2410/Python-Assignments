{
 "cells": [
  {
   "cell_type": "raw",
   "id": "8649fede-f1ab-420a-baf8-9eb2bc0bbe4a",
   "metadata": {},
   "source": [
    "Fill out the chaotic_counting() function, which prints the numbers from 1 to 10, but with a catch. We've written a done() function which returns True with likelihood DONE_LIKELIHOOD -- at each number, before printing the number, you should call done() and check if it returns True or not. If done() returns True, we're done counting, and you should use a return statement to end the chaotic_counting() function execution and resume execution of main(), which will print \"I'm done.\". We've written main() for you -- check it out! Notice that we'll only print \"I'm done\" from main() once chaotic_counting() is done with its execution.\n",
    "\n",
    "Here's a sample run of this program:\n",
    "\n",
    "I'm going to count until 10 or until I feel like stopping, whichever comes first. 1 2 3 I'm done."
   ]
  },
  {
   "cell_type": "code",
   "execution_count": 1,
   "id": "50a0babe-0492-448a-8858-8f63898a01b1",
   "metadata": {},
   "outputs": [
    {
     "name": "stdout",
     "output_type": "stream",
     "text": [
      "I'm going to count until 10 or until I feel like stopping, whichever comes first.\n",
      "1\n",
      "I'm done.\n"
     ]
    }
   ],
   "source": [
    "import random\n",
    "\n",
    "# Set the likelihood of being done\n",
    "DONE_LIKELIHOOD = 0.3  # Example: 30% chance to stop early\n",
    "\n",
    "# done() function that randomly returns True or False\n",
    "def done():\n",
    "    return random.random() < DONE_LIKELIHOOD\n",
    "\n",
    "# chaotic_counting function\n",
    "def chaotic_counting():\n",
    "    for i in range(1, 11):\n",
    "        if done():\n",
    "            return  # If done() returns True, we exit the function early\n",
    "        print(i)\n",
    "\n",
    "# main function\n",
    "def main():\n",
    "    print(\"I'm going to count until 10 or until I feel like stopping, whichever comes first.\")\n",
    "    chaotic_counting()\n",
    "    print(\"I'm done.\")\n",
    "\n",
    "# Run the main function\n",
    "main()"
   ]
  },
  {
   "cell_type": "code",
   "execution_count": null,
   "id": "2d599319-eae4-4efa-ae58-4f2fbf06d89e",
   "metadata": {},
   "outputs": [],
   "source": []
  }
 ],
 "metadata": {
  "kernelspec": {
   "display_name": "Python 3 (ipykernel)",
   "language": "python",
   "name": "python3"
  },
  "language_info": {
   "codemirror_mode": {
    "name": "ipython",
    "version": 3
   },
   "file_extension": ".py",
   "mimetype": "text/x-python",
   "name": "python",
   "nbconvert_exporter": "python",
   "pygments_lexer": "ipython3",
   "version": "3.12.7"
  }
 },
 "nbformat": 4,
 "nbformat_minor": 5
}
