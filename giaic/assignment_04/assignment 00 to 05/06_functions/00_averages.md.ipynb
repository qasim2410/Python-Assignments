{
 "cells": [
  {
   "cell_type": "raw",
   "id": "baa1aad1-e5e3-448a-af2b-bc8c33642d73",
   "metadata": {},
   "source": [
    "Write a function that takes two numbers and finds the average between the two."
   ]
  },
  {
   "cell_type": "code",
   "execution_count": 6,
   "id": "68d7b50b-2175-46e9-8d67-733338495a1e",
   "metadata": {},
   "outputs": [],
   "source": [
    "def find_average(num1, num2):\n",
    "    # Calculate the average\n",
    "    average = (num1 + num2) / 2\n",
    "    return average"
   ]
  },
  {
   "cell_type": "code",
   "execution_count": 8,
   "id": "124d7fc2-7ebc-461d-a19a-8558fd690e04",
   "metadata": {},
   "outputs": [
    {
     "name": "stdout",
     "output_type": "stream",
     "text": [
      "The average is: 15.0\n"
     ]
    }
   ],
   "source": [
    "# Test the function\n",
    "number1 = 10\n",
    "number2 = 20\n",
    "\n",
    "average = find_average(number1, number2)\n",
    "print(\"The average is:\", average)"
   ]
  },
  {
   "cell_type": "code",
   "execution_count": null,
   "id": "42b9ad26-f6d8-4307-b5d6-c08aef60a8db",
   "metadata": {},
   "outputs": [],
   "source": []
  }
 ],
 "metadata": {
  "kernelspec": {
   "display_name": "Python 3 (ipykernel)",
   "language": "python",
   "name": "python3"
  },
  "language_info": {
   "codemirror_mode": {
    "name": "ipython",
    "version": 3
   },
   "file_extension": ".py",
   "mimetype": "text/x-python",
   "name": "python",
   "nbconvert_exporter": "python",
   "pygments_lexer": "ipython3",
   "version": "3.12.7"
  }
 },
 "nbformat": 4,
 "nbformat_minor": 5
}
