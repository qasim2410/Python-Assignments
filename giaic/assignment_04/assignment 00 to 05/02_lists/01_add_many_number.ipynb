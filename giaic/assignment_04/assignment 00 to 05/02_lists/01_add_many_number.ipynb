{
 "cells": [
  {
   "cell_type": "raw",
   "id": "d06b0e59-cdc1-4b47-bf1b-1402624e7e41",
   "metadata": {},
   "source": [
    "Write a function that takes a list of numbers and returns the sum of those numbers."
   ]
  },
  {
   "cell_type": "code",
   "execution_count": 1,
   "id": "18f9c107-8792-4f54-a94b-01f4c2a2e47a",
   "metadata": {},
   "outputs": [],
   "source": [
    "def sum_list(numbers):\n",
    "    total = 0\n",
    "    for num in numbers:\n",
    "        total += num\n",
    "    return total"
   ]
  },
  {
   "cell_type": "code",
   "execution_count": 4,
   "id": "9ba095f7-f6ad-4cd1-a7cc-c9e1afcefb7a",
   "metadata": {},
   "outputs": [
    {
     "name": "stdout",
     "output_type": "stream",
     "text": [
      "The sum is: 15\n"
     ]
    }
   ],
   "source": [
    "my_numbers = [1, 2, 3, 4, 5]\n",
    "result = sum_list(my_numbers)\n",
    "print(\"The sum is:\", result)"
   ]
  },
  {
   "cell_type": "code",
   "execution_count": null,
   "id": "f50a271a-f069-4b68-b30f-5407dd0dacd0",
   "metadata": {},
   "outputs": [],
   "source": []
  }
 ],
 "metadata": {
  "kernelspec": {
   "display_name": "Python 3 (ipykernel)",
   "language": "python",
   "name": "python3"
  },
  "language_info": {
   "codemirror_mode": {
    "name": "ipython",
    "version": 3
   },
   "file_extension": ".py",
   "mimetype": "text/x-python",
   "name": "python",
   "nbconvert_exporter": "python",
   "pygments_lexer": "ipython3",
   "version": "3.12.7"
  }
 },
 "nbformat": 4,
 "nbformat_minor": 5
}
