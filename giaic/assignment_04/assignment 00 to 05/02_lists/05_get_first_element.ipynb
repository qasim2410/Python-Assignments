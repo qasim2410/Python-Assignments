{
 "cells": [
  {
   "cell_type": "raw",
   "id": "4d6831e3-fede-402a-99ea-8f1ec11896e6",
   "metadata": {},
   "source": [
    "Fill out the function get_first_element(lst) which takes in a list lst as a parameter and prints the first element in the list. The list is guaranteed to be non-empty. We've written some code for you which prompts the user to input the list one element at a time."
   ]
  },
  {
   "cell_type": "code",
   "execution_count": 5,
   "id": "c7dc6581-ef3f-4b34-9294-16b02011ed49",
   "metadata": {},
   "outputs": [
    {
     "name": "stdin",
     "output_type": "stream",
     "text": [
      "How many elements do you want to enter?  5\n",
      "Enter element #1:   those who learn in 2025 gain advantage for next ten years\n",
      "Enter element #2:   those who learn in 2025 gain advantage for next ten years\n",
      "Enter element #3:   those who learn in 2025 gain advantage for next ten years\n",
      "Enter element #4:   those who learn in 2025 gain advantage for next ten years\n",
      "Enter element #5:   those who learn in 2025 gain advantage for next ten years\n"
     ]
    },
    {
     "name": "stdout",
     "output_type": "stream",
     "text": [
      "The first element is:  those who learn in 2025 gain advantage for next ten years\n"
     ]
    }
   ],
   "source": [
    "def get_first_element(lst):\n",
    "    # Print the first element in the list\n",
    "    print(\"The first element is:\", lst[0])\n",
    "\n",
    "# Ask the user how many elements they want to input\n",
    "num_elements = int(input(\"How many elements do you want to enter? \"))\n",
    "\n",
    "# Create an empty list\n",
    "user_list = []\n",
    "\n",
    "# Get elements from the user one at a time\n",
    "for i in range(num_elements):\n",
    "    element = input(f\"Enter element #{i + 1}: \")\n",
    "    user_list.append(element)\n",
    "\n",
    "# Call the function to print the first element\n",
    "get_first_element(user_list)"
   ]
  },
  {
   "cell_type": "code",
   "execution_count": null,
   "id": "e29584f2-490c-450e-8924-e5ba095ac721",
   "metadata": {},
   "outputs": [],
   "source": []
  }
 ],
 "metadata": {
  "kernelspec": {
   "display_name": "Python 3 (ipykernel)",
   "language": "python",
   "name": "python3"
  },
  "language_info": {
   "codemirror_mode": {
    "name": "ipython",
    "version": 3
   },
   "file_extension": ".py",
   "mimetype": "text/x-python",
   "name": "python",
   "nbconvert_exporter": "python",
   "pygments_lexer": "ipython3",
   "version": "3.12.7"
  }
 },
 "nbformat": 4,
 "nbformat_minor": 5
}
