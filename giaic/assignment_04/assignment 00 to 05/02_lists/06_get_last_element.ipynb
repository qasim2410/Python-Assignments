{
 "cells": [
  {
   "cell_type": "raw",
   "id": "8861e290-82f3-450e-9b10-80c72cd5420a",
   "metadata": {},
   "source": [
    "Fill out the function get_last_element(lst) which takes in a list lst as a parameter and prints the last element in the list. The list is guaranteed to be non-empty, but there are no guarantees on its length."
   ]
  },
  {
   "cell_type": "code",
   "execution_count": 1,
   "id": "85e61992-56c5-4050-9e2a-974462dd4fe5",
   "metadata": {},
   "outputs": [
    {
     "name": "stdin",
     "output_type": "stream",
     "text": [
      "How many elements do you want to enter?  2\n",
      "Enter element #1:  hello\n",
      "Enter element #2:  world\n"
     ]
    },
    {
     "name": "stdout",
     "output_type": "stream",
     "text": [
      "The last element is: world\n"
     ]
    }
   ],
   "source": [
    "def get_last_element(lst):\n",
    "    # Print the last element of the list\n",
    "    print(\"The last element is:\", lst[-1])\n",
    "\n",
    "# Ask the user how many elements they want to enter\n",
    "num_elements = int(input(\"How many elements do you want to enter? \"))\n",
    "\n",
    "# Initialize an empty list\n",
    "user_list = []\n",
    "\n",
    "# Collect elements from the user\n",
    "for i in range(num_elements):\n",
    "    element = input(f\"Enter element #{i + 1}: \")\n",
    "    user_list.append(element)\n",
    "\n",
    "# Call the function to print the last element\n",
    "get_last_element(user_list)"
   ]
  },
  {
   "cell_type": "code",
   "execution_count": null,
   "id": "a81ac7c0-1a56-408e-84d7-c35f5e62d745",
   "metadata": {},
   "outputs": [],
   "source": []
  }
 ],
 "metadata": {
  "kernelspec": {
   "display_name": "Python 3 (ipykernel)",
   "language": "python",
   "name": "python3"
  },
  "language_info": {
   "codemirror_mode": {
    "name": "ipython",
    "version": 3
   },
   "file_extension": ".py",
   "mimetype": "text/x-python",
   "name": "python",
   "nbconvert_exporter": "python",
   "pygments_lexer": "ipython3",
   "version": "3.12.7"
  }
 },
 "nbformat": 4,
 "nbformat_minor": 5
}
