{
 "cells": [
  {
   "cell_type": "raw",
   "id": "f1b4a4b2-980c-4798-93e6-d4db55e9a3c1",
   "metadata": {},
   "source": [
    "Fill out the function shorten(lst) which removes elements from the end of lst, which is a list, and prints each item it removes until lst is MAX_LENGTH items long. If lst is already shorter than MAX_LENGTH you should leave it unchanged. We've written a main() function for you which gets a list and passes it into your function once you run the program. For the autograder to pass you will need MAX_LENGTH to be 3, but feel free to change it around to test your program."
   ]
  },
  {
   "cell_type": "code",
   "execution_count": 1,
   "id": "9b15c031-2250-498c-8ff9-980093c6acfc",
   "metadata": {},
   "outputs": [
    {
     "name": "stdout",
     "output_type": "stream",
     "text": [
      "Original list: ['apple', 'banana', 'cherry', 'date', 'elderberry']\n",
      "Removed: elderberry\n",
      "Removed: date\n",
      "Final list: ['apple', 'banana', 'cherry']\n"
     ]
    }
   ],
   "source": [
    "MAX_LENGTH = 3\n",
    "\n",
    "def shorten(lst):\n",
    "    # Remove and print items until the list is MAX_LENGTH long\n",
    "    while len(lst) > MAX_LENGTH:\n",
    "        removed_item = lst.pop()  # Removes the last item\n",
    "        print(\"Removed:\", removed_item)\n",
    "\n",
    "# Example main function to test\n",
    "def main():\n",
    "    # Create a sample list\n",
    "    items = [\"apple\", \"banana\", \"cherry\", \"date\", \"elderberry\"]\n",
    "    print(\"Original list:\", items)\n",
    "    shorten(items)\n",
    "    print(\"Final list:\", items)\n",
    "\n",
    "# Run the program\n",
    "main()"
   ]
  },
  {
   "cell_type": "code",
   "execution_count": null,
   "id": "cc47b4e0-68f3-4fd7-809e-c06521d5834b",
   "metadata": {},
   "outputs": [],
   "source": []
  }
 ],
 "metadata": {
  "kernelspec": {
   "display_name": "Python 3 (ipykernel)",
   "language": "python",
   "name": "python3"
  },
  "language_info": {
   "codemirror_mode": {
    "name": "ipython",
    "version": 3
   },
   "file_extension": ".py",
   "mimetype": "text/x-python",
   "name": "python",
   "nbconvert_exporter": "python",
   "pygments_lexer": "ipython3",
   "version": "3.12.7"
  }
 },
 "nbformat": 4,
 "nbformat_minor": 5
}
