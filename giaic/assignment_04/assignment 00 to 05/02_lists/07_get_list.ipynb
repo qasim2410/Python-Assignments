{
 "cells": [
  {
   "cell_type": "raw",
   "id": "2e32abef-9c39-42bc-9c61-2199498f8dd3",
   "metadata": {},
   "source": [
    "Write a program which continuously asks the user to enter values which are added one by one into a list. When the user presses enter without typing anything, print the list.\n",
    "\n",
    "Here's a sample run (user input is in blue):\n",
    "\n",
    "Enter a value: 1 Enter a value: 2 Enter a value: 3 Enter a value: Here's the list: ['1', '2', '3']"
   ]
  },
  {
   "cell_type": "code",
   "execution_count": 11,
   "id": "ec8abbbd-f4f7-487b-9210-4db25208a4e3",
   "metadata": {},
   "outputs": [
    {
     "name": "stdin",
     "output_type": "stream",
     "text": [
      "Enter a value:  python\n",
      "Enter a value:  2\n",
      "Enter a value:  2.23\n",
      "Enter a value:  True\n",
      "Enter a value:  \n"
     ]
    },
    {
     "name": "stdout",
     "output_type": "stream",
     "text": [
      "Here's the list: ['python', '2', '2.23', 'True']\n"
     ]
    }
   ],
   "source": [
    "def collect_values():\n",
    "    values = []\n",
    "    while True:\n",
    "        user_input = input(\"Enter a value: \")\n",
    "        if user_input == \"\":\n",
    "            break\n",
    "        values.append(user_input)\n",
    "    \n",
    "    print(\"Here's the list:\", values)\n",
    "\n",
    "# Run the program\n",
    "collect_values()"
   ]
  },
  {
   "cell_type": "code",
   "execution_count": null,
   "id": "aa7181d8-74d5-48e9-98ba-8ae20ad39b7c",
   "metadata": {},
   "outputs": [],
   "source": []
  }
 ],
 "metadata": {
  "kernelspec": {
   "display_name": "Python 3 (ipykernel)",
   "language": "python",
   "name": "python3"
  },
  "language_info": {
   "codemirror_mode": {
    "name": "ipython",
    "version": 3
   },
   "file_extension": ".py",
   "mimetype": "text/x-python",
   "name": "python",
   "nbconvert_exporter": "python",
   "pygments_lexer": "ipython3",
   "version": "3.12.7"
  }
 },
 "nbformat": 4,
 "nbformat_minor": 5
}
