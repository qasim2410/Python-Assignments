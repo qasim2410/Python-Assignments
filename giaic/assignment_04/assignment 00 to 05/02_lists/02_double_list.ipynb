{
 "cells": [
  {
   "cell_type": "raw",
   "id": "b3165a86-6c33-411e-a309-3d12ec9d8d2e",
   "metadata": {},
   "source": [
    "Write a program that doubles each element in a list of numbers. For example, if you start with this list:\n",
    "\n",
    "numbers = [1, 2, 3, 4]\n",
    "\n",
    "You should end with this list:\n",
    "\n",
    "numbers = [2, 4, 6, 8]"
   ]
  },
  {
   "cell_type": "code",
   "execution_count": 1,
   "id": "b71294c8-418c-49d2-9814-2ebd63ea2902",
   "metadata": {},
   "outputs": [
    {
     "name": "stdout",
     "output_type": "stream",
     "text": [
      "Doubled numbers: [2, 4, 6, 8]\n"
     ]
    }
   ],
   "source": [
    "# Original list\n",
    "numbers = [1, 2, 3, 4]\n",
    "\n",
    "# Double each element using a loop\n",
    "for i in range(len(numbers)):\n",
    "    numbers[i] = numbers[i] * 2\n",
    "\n",
    "# Print the updated list\n",
    "print(\"Doubled numbers:\", numbers)"
   ]
  },
  {
   "cell_type": "code",
   "execution_count": null,
   "id": "e8a17b49-ed51-4898-8edf-944f82a7cc06",
   "metadata": {},
   "outputs": [],
   "source": []
  }
 ],
 "metadata": {
  "kernelspec": {
   "display_name": "Python 3 (ipykernel)",
   "language": "python",
   "name": "python3"
  },
  "language_info": {
   "codemirror_mode": {
    "name": "ipython",
    "version": 3
   },
   "file_extension": ".py",
   "mimetype": "text/x-python",
   "name": "python",
   "nbconvert_exporter": "python",
   "pygments_lexer": "ipython3",
   "version": "3.12.7"
  }
 },
 "nbformat": 4,
 "nbformat_minor": 5
}
