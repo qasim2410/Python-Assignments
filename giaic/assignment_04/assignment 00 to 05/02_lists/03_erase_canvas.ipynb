{
 "cells": [
  {
   "cell_type": "raw",
   "id": "b2a84665-9a81-44f9-af54-a6925a1fcb0e",
   "metadata": {},
   "source": [
    "Implement an 'eraser' on a canvas.\n",
    "\n",
    "The canvas consists of a grid of blue 'cells' which are drawn as rectangles on the screen. We then create an eraser rectangle which, when dragged around the canvas, sets all of the rectangles it is in contact with to white."
   ]
  },
  {
   "cell_type": "code",
   "execution_count": 2,
   "id": "5cf08ccd-cf49-4a05-a0f5-ec3373df5172",
   "metadata": {},
   "outputs": [],
   "source": [
    "import tkinter as tk\n",
    "\n",
    "# Constants\n",
    "CELL_SIZE = 40\n",
    "ROWS = 10\n",
    "COLS = 10\n",
    "ERASER_SIZE = 60\n",
    "\n",
    "class EraserCanvas:\n",
    "    def __init__(self, root):\n",
    "        self.canvas = tk.Canvas(root, width=COLS*CELL_SIZE, height=ROWS*CELL_SIZE, bg=\"white\")\n",
    "        self.canvas.pack()\n",
    "\n",
    "        # Draw the grid of blue cells\n",
    "        self.cells = []\n",
    "        for row in range(ROWS):\n",
    "            row_cells = []\n",
    "            for col in range(COLS):\n",
    "                x1 = col * CELL_SIZE\n",
    "                y1 = row * CELL_SIZE\n",
    "                x2 = x1 + CELL_SIZE\n",
    "                y2 = y1 + CELL_SIZE\n",
    "                rect = self.canvas.create_rectangle(x1, y1, x2, y2, fill=\"blue\", outline=\"white\")\n",
    "                row_cells.append(rect)\n",
    "            self.cells.append(row_cells)\n",
    "\n",
    "        # Create the eraser\n",
    "        self.eraser = self.canvas.create_rectangle(0, 0, ERASER_SIZE, ERASER_SIZE, outline=\"red\", width=2)\n",
    "\n",
    "        # Bind mouse movement\n",
    "        self.canvas.bind(\"<B1-Motion>\", self.move_eraser)\n",
    "\n",
    "    def move_eraser(self, event):\n",
    "        # Update eraser position\n",
    "        x1 = event.x - ERASER_SIZE // 2\n",
    "        y1 = event.y - ERASER_SIZE // 2\n",
    "        x2 = x1 + ERASER_SIZE\n",
    "        y2 = y1 + ERASER_SIZE\n",
    "        self.canvas.coords(self.eraser, x1, y1, x2, y2)\n",
    "\n",
    "        # Check collision and erase blue cells\n",
    "        for row in self.cells:\n",
    "            for rect in row:\n",
    "                coords = self.canvas.coords(rect)\n",
    "                if self.rectangles_overlap((x1, y1, x2, y2), coords):\n",
    "                    self.canvas.itemconfig(rect, fill=\"white\")\n",
    "\n",
    "    def rectangles_overlap(self, r1, r2):\n",
    "        return not (r1[2] <= r2[0] or r1[0] >= r2[2] or r1[3] <= r2[1] or r1[1] >= r2[3])\n",
    "\n",
    "# Create window and run the app\n",
    "root = tk.Tk()\n",
    "root.title(\"Canvas Eraser\")\n",
    "app = EraserCanvas(root)\n",
    "root.mainloop()"
   ]
  },
  {
   "cell_type": "code",
   "execution_count": null,
   "id": "a7af97d5-67ad-499d-823a-c7d878871725",
   "metadata": {},
   "outputs": [],
   "source": []
  }
 ],
 "metadata": {
  "kernelspec": {
   "display_name": "Python 3 (ipykernel)",
   "language": "python",
   "name": "python3"
  },
  "language_info": {
   "codemirror_mode": {
    "name": "ipython",
    "version": 3
   },
   "file_extension": ".py",
   "mimetype": "text/x-python",
   "name": "python",
   "nbconvert_exporter": "python",
   "pygments_lexer": "ipython3",
   "version": "3.12.7"
  }
 },
 "nbformat": 4,
 "nbformat_minor": 5
}
