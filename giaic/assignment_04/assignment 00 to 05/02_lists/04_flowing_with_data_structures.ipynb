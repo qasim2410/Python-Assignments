{
 "cells": [
  {
   "cell_type": "raw",
   "id": "1eeffeba-0429-4baf-bdda-21a002672627",
   "metadata": {},
   "source": [
    "In the information flow lesson, we discussed using a variable storing a number as an example of scope. We saw that changes we made to the number inside a function did not stay unless we returned it. This is true for what we call immutable data types which include things like numbers and strings.\n",
    "\n",
    "However, there are also mutable data types where changes stay even if we don't return anything. Some examples of mutable data types are lists and dictionaries. This means that you should be mindful when modifying lists and dictionaries within helper functions since their changes stay whether or not you return them.\n",
    "\n",
    "To see this in action, fill out the add_three_copies(...) function which takes a list and some data and then adds three copies of the data to the list. Don't return anything and see what happens! Compare this process to the x = change(x) example and note the differences.\n",
    "\n",
    "Here is an example run of this program (user input in bold italics):\n",
    "\n",
    "Enter a message to copy: Hello world!\n",
    "\n",
    "List before: []\n",
    "\n",
    "List after: ['Hello world!', 'Hello world!', 'Hello world!']\n",
    "\n",
    "(Note. The concept of immutable/mutable data types is called mutability. Be careful because different programming languages have different rules regarding mutability!)"
   ]
  },
  {
   "cell_type": "code",
   "execution_count": 1,
   "id": "79b45e03-6cbd-40ea-85ec-3167a8ccd1d9",
   "metadata": {},
   "outputs": [
    {
     "name": "stdin",
     "output_type": "stream",
     "text": [
      "Enter a message to copy:  I am enjoying Python\n"
     ]
    },
    {
     "name": "stdout",
     "output_type": "stream",
     "text": [
      "List before: []\n",
      "List after: ['I am enjoying Python', 'I am enjoying Python', 'I am enjoying Python']\n"
     ]
    }
   ],
   "source": [
    "def add_three_copies(data_list, data):\n",
    "    # Append the data three times\n",
    "    for _ in range(3):\n",
    "        data_list.append(data)\n",
    "\n",
    "# Ask the user for input\n",
    "message = input(\"Enter a message to copy: \")\n",
    "\n",
    "# Create an empty list\n",
    "messages = []\n",
    "\n",
    "# Show the list before\n",
    "print(\"List before:\", messages)\n",
    "\n",
    "# Call the function to add three copies of the message\n",
    "add_three_copies(messages, message)\n",
    "\n",
    "# Show the list after\n",
    "print(\"List after:\", messages)"
   ]
  },
  {
   "cell_type": "code",
   "execution_count": null,
   "id": "2f986a5a-591a-464c-8478-c047fd99d117",
   "metadata": {},
   "outputs": [],
   "source": []
  }
 ],
 "metadata": {
  "kernelspec": {
   "display_name": "Python 3 (ipykernel)",
   "language": "python",
   "name": "python3"
  },
  "language_info": {
   "codemirror_mode": {
    "name": "ipython",
    "version": 3
   },
   "file_extension": ".py",
   "mimetype": "text/x-python",
   "name": "python",
   "nbconvert_exporter": "python",
   "pygments_lexer": "ipython3",
   "version": "3.12.7"
  }
 },
 "nbformat": 4,
 "nbformat_minor": 5
}
