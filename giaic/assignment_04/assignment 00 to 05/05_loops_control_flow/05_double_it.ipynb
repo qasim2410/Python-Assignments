{
 "cells": [
  {
   "cell_type": "raw",
   "id": "a151d5b6-33e3-4e91-a447-8b83888ae36f",
   "metadata": {},
   "source": [
    "Write a program that asks a user to enter a number. Your program will then double that number and print out the result. It will repeat that process until the value is 100 or greater.\n",
    "\n",
    "For example if the user enters the number 2 you would then print:\n",
    "\n",
    "4 8 16 32 64 128\n",
    "\n",
    "Note that:\n",
    "\n",
    "2 doubled is 4\n",
    "\n",
    "4 doubled is 8\n",
    "\n",
    "8 doubled is 16\n",
    "\n",
    "and so on.\n",
    "\n",
    "We stop at 128 because that value is greater than 100.\n",
    "\n",
    "Maintain the current number in a variable named curr_value. When you double the number, you should be updating curr_value. Recall that you can double the value of curr_value using a line like:\n",
    "\n",
    "curr_value = curr_value * 2\n",
    "\n",
    "This program should have a while loop and the while loop condition should test if curr_value is less than 100. Thus, your program will have the line:\n",
    "\n",
    "while curr_value < 100:"
   ]
  },
  {
   "cell_type": "code",
   "execution_count": 1,
   "id": "da53acfd-8fbf-4dec-b730-f057725f03fb",
   "metadata": {},
   "outputs": [
    {
     "name": "stdin",
     "output_type": "stream",
     "text": [
      "Enter a number:  22\n"
     ]
    },
    {
     "name": "stdout",
     "output_type": "stream",
     "text": [
      "44\n",
      "88\n",
      "176\n"
     ]
    }
   ],
   "source": [
    "# Ask the user to enter a number\n",
    "curr_value = int(input(\"Enter a number: \"))\n",
    "\n",
    "# Loop until the value is greater than or equal to 100\n",
    "while curr_value < 100:\n",
    "    # Double the current value\n",
    "    curr_value = curr_value * 2\n",
    "    # Print the current value after doubling\n",
    "    print(curr_value)"
   ]
  },
  {
   "cell_type": "code",
   "execution_count": null,
   "id": "71c5d297-fa7b-4ef5-bd38-e92f58dc7bfc",
   "metadata": {},
   "outputs": [],
   "source": []
  }
 ],
 "metadata": {
  "kernelspec": {
   "display_name": "Python 3 (ipykernel)",
   "language": "python",
   "name": "python3"
  },
  "language_info": {
   "codemirror_mode": {
    "name": "ipython",
    "version": 3
   },
   "file_extension": ".py",
   "mimetype": "text/x-python",
   "name": "python",
   "nbconvert_exporter": "python",
   "pygments_lexer": "ipython3",
   "version": "3.12.7"
  }
 },
 "nbformat": 4,
 "nbformat_minor": 5
}
