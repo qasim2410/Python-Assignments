{
 "cells": [
  {
   "cell_type": "raw",
   "id": "953027cc-50fc-47d8-8147-f0b64870d345",
   "metadata": {},
   "source": [
    "Write a program which prompts the user to type an affirmation of your choice (we'll use \"I am capable of doing anything I put my mind to.\") until they type it correctly. Sometimes, especially in the midst of such uncertain times, we just need to be reminded that we are resilient, capable, and strong; this little Python program may be able to help!\n",
    "\n",
    "Here's a sample run of the program (user input is in blue):\n",
    "\n",
    "Please type the following affirmation: I am capable of doing anything I put my mind to. Hmmm That was not the affirmation. Please type the following affirmation: I am capable of doing anything I put my mind to. I am capable of doing anything I put my mind to. That's right! :)\n",
    "\n",
    "Note that you can call input() with no prompt and it will still wait for a user to type something!"
   ]
  },
  {
   "cell_type": "code",
   "execution_count": 2,
   "id": "6781e159-9ff0-4bae-b0c9-33411b44c370",
   "metadata": {},
   "outputs": [
    {
     "name": "stdin",
     "output_type": "stream",
     "text": [
      "Please type the following affirmation:  I am capable of doing anything I put my mind to.\n"
     ]
    },
    {
     "name": "stdout",
     "output_type": "stream",
     "text": [
      "That's right! :)\n"
     ]
    }
   ],
   "source": [
    "# The correct affirmation to be typed\n",
    "affirmation = \"I am capable of doing anything I put my mind to.\"\n",
    "\n",
    "# Keep asking the user to type the affirmation until they do it correctly\n",
    "while True:\n",
    "    # Prompt the user to type the affirmation\n",
    "    user_input = input(\"Please type the following affirmation: \")\n",
    "\n",
    "    # Check if the user typed it correctly\n",
    "    if user_input == affirmation:\n",
    "        print(\"That's right! :)\")\n",
    "        break  # Exit the loop if the user typed it correctly\n",
    "    else:\n",
    "        print(\"Hmmm That was not the affirmation.\")"
   ]
  },
  {
   "cell_type": "code",
   "execution_count": null,
   "id": "80acb2fc-3444-4c91-be94-8a3064fdb016",
   "metadata": {},
   "outputs": [],
   "source": []
  }
 ],
 "metadata": {
  "kernelspec": {
   "display_name": "Python 3 (ipykernel)",
   "language": "python",
   "name": "python3"
  },
  "language_info": {
   "codemirror_mode": {
    "name": "ipython",
    "version": 3
   },
   "file_extension": ".py",
   "mimetype": "text/x-python",
   "name": "python",
   "nbconvert_exporter": "python",
   "pygments_lexer": "ipython3",
   "version": "3.12.7"
  }
 },
 "nbformat": 4,
 "nbformat_minor": 5
}
