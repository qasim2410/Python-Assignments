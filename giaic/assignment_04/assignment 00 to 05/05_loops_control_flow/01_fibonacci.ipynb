{
 "cells": [
  {
   "cell_type": "raw",
   "id": "64e15fa7-d97f-4864-9059-8084c37dd014",
   "metadata": {},
   "source": [
    "Write a program to print terms in the Fibonacci sequence up to a maximum value.\n",
    "\n",
    "In the 13th century, the Italian mathematician Leonardo Fibonacci, as a way to explain the geometric growth of a population of rabbits, devised a mathematical sequence that now bears his name. The first two terms in this sequence, Fib(0) and Fib(1), are 0 and 1, and every subsequent term is the sum of the preceding two. Thus, the first several terms in the Fibonacci sequence look like this:\n",
    "\n",
    "Fib(0) = 0 Fib(1) = 1 Fib(2) = 1 = 0 + 1 Fib(3) = 2 = 1 + 1 Fib(4) = 3 = 1 + 2 Fib(5) = 5 = 2 + 3\n",
    "\n",
    "Write a program that displays the terms in the Fibonacci sequence, starting with Fib(0) and continuing as long as the terms are less than 10,000 (you should store this value as a constant!). Thus, your program should produce the following sample run:\n",
    "\n",
    "0 1 1 2 3 5 8 13 21 34 55 89 144 233 377 610 987 1597 2584 4181 6765"
   ]
  },
  {
   "cell_type": "code",
   "execution_count": 1,
   "id": "5fe15951-d97a-4a8f-93a9-01898ac5c2b6",
   "metadata": {},
   "outputs": [
    {
     "name": "stdout",
     "output_type": "stream",
     "text": [
      "0 1 1 2 3 5 8 13 21 34 55 89 144 233 377 610 987 1597 2584 4181 6765 "
     ]
    }
   ],
   "source": [
    "# Set the maximum value for the Fibonacci sequence\n",
    "MAX_VALUE = 10000\n",
    "\n",
    "def fibonacci_sequence():\n",
    "    # Initialize the first two terms\n",
    "    fib_0 = 0\n",
    "    fib_1 = 1\n",
    "    \n",
    "    # Print the first two terms\n",
    "    print(fib_0, fib_1, end=\" \")\n",
    "    \n",
    "    # Compute and print subsequent terms\n",
    "    while True:\n",
    "        # Calculate the next Fibonacci number\n",
    "        fib_next = fib_0 + fib_1\n",
    "        \n",
    "        # If the next Fibonacci number exceeds MAX_VALUE, stop\n",
    "        if fib_next >= MAX_VALUE:\n",
    "            break\n",
    "        \n",
    "        # Print the next Fibonacci number\n",
    "        print(fib_next, end=\" \")\n",
    "        \n",
    "        # Update the previous two Fibonacci numbers\n",
    "        fib_0 = fib_1\n",
    "        fib_1 = fib_next\n",
    "\n",
    "# Run the function to print the Fibonacci sequence\n",
    "fibonacci_sequence()"
   ]
  },
  {
   "cell_type": "code",
   "execution_count": null,
   "id": "aae236b1-11a2-4d60-8dbb-879689f5994d",
   "metadata": {},
   "outputs": [],
   "source": []
  }
 ],
 "metadata": {
  "kernelspec": {
   "display_name": "Python 3 (ipykernel)",
   "language": "python",
   "name": "python3"
  },
  "language_info": {
   "codemirror_mode": {
    "name": "ipython",
    "version": 3
   },
   "file_extension": ".py",
   "mimetype": "text/x-python",
   "name": "python",
   "nbconvert_exporter": "python",
   "pygments_lexer": "ipython3",
   "version": "3.12.7"
  }
 },
 "nbformat": 4,
 "nbformat_minor": 5
}
