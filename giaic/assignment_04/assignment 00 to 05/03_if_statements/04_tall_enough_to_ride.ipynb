{
 "cells": [
  {
   "cell_type": "raw",
   "id": "a253c3fe-b404-4f3d-a468-397d76882b2b",
   "metadata": {},
   "source": [
    "Write a program which asks the user how tall they are and prints whether or not they're taller than a pre-specified minimum height.\n",
    "\n",
    "In amusement parks (ah, the good old pre-pandemic days...), rollercoasters frequently have minimum height requirements for safety reasons. Assume for now that the minimum height is 50 of whatever height unit you'd like\n",
    "\n",
    "Here's two sample runs (user input is in bold italics):\n",
    "\n",
    "How tall are you? 100\n",
    "\n",
    "You're tall enough to ride!\n",
    "\n",
    "How tall are you? 10\n",
    "\n",
    "You're not tall enough to ride, but maybe next year!\n",
    "\n",
    "(For an extra challenge, write code which will repeatedly ask a user how tall they are and tell them whether or not they're tall enough to ride, until the user doesn't enter a height at all, in which case the program stops. Curious about how to do this? See the function tall_enough_extension() in the solution code!)"
   ]
  },
  {
   "cell_type": "code",
   "execution_count": 5,
   "id": "53b8df19-9557-45c2-80d8-499c7550991c",
   "metadata": {},
   "outputs": [
    {
     "name": "stdin",
     "output_type": "stream",
     "text": [
      "How tall are you?  5\n"
     ]
    },
    {
     "name": "stdout",
     "output_type": "stream",
     "text": [
      "You're not tall enough to ride, but maybe next year!\n"
     ]
    }
   ],
   "source": [
    "def check_height():\n",
    "    # Set the minimum height requirement\n",
    "    minimum_height = 50\n",
    "\n",
    "    # Ask the user for their height\n",
    "    height = int(input(\"How tall are you? \"))\n",
    "\n",
    "    # Check if they are tall enough\n",
    "    if height >= minimum_height:\n",
    "        print(\"You're tall enough to ride!\")\n",
    "    else:\n",
    "        print(\"You're not tall enough to ride, but maybe next year!\")\n",
    "\n",
    "# Run the program\n",
    "check_height()"
   ]
  },
  {
   "cell_type": "code",
   "execution_count": null,
   "id": "ece92f13-7536-41e4-baa9-7f88a8c763ad",
   "metadata": {},
   "outputs": [],
   "source": []
  }
 ],
 "metadata": {
  "kernelspec": {
   "display_name": "Python 3 (ipykernel)",
   "language": "python",
   "name": "python3"
  },
  "language_info": {
   "codemirror_mode": {
    "name": "ipython",
    "version": 3
   },
   "file_extension": ".py",
   "mimetype": "text/x-python",
   "name": "python",
   "nbconvert_exporter": "python",
   "pygments_lexer": "ipython3",
   "version": "3.12.7"
  }
 },
 "nbformat": 4,
 "nbformat_minor": 5
}
