{
 "cells": [
  {
   "cell_type": "raw",
   "id": "9b70e7a7-714d-4422-978d-e750beef82ae",
   "metadata": {},
   "source": [
    "Write a program that reads a year from the user and tells whether a given year is a leap year or not.\n",
    "\n",
    "A leap year (also known as an intercalary year or bissextile year) is a calendar year that contains an additional day (or, in the case of a lunisolar calendar, a month) added to keep the calendar year synchronized with the astronomical year or seasonal year. In the Gregorian calendar, each leap year has 366 days instead of 365, by extending February to 29 days rather than the common 28.\n",
    "\n",
    "In the Gregorian calendar, three criteria must be checked to identify leap years:\n",
    "\n",
    "1) The given year must be evenly divisible by 4;\n",
    "2) If the year can also be evenly divided by 100, it is NOT a leap year; unless:\n",
    "3) The year is also evenly divisible by 400. Then it is a leap year.\n",
    "Your code should use the above criteria to check for a leap year and then print either \"That's a leap year!\" or \"That's not a leap year.\""
   ]
  },
  {
   "cell_type": "code",
   "execution_count": 3,
   "id": "e040d627-f8de-443c-b32c-65d78623cb16",
   "metadata": {},
   "outputs": [
    {
     "name": "stdin",
     "output_type": "stream",
     "text": [
      "Enter a year:  2024\n"
     ]
    },
    {
     "name": "stdout",
     "output_type": "stream",
     "text": [
      "That's a leap year!\n"
     ]
    }
   ],
   "source": [
    "def check_leap_year():\n",
    "    # Get the year from the user\n",
    "    year = int(input(\"Enter a year: \"))\n",
    "\n",
    "    # Check if the year is a leap year using the provided criteria\n",
    "    if (year % 4 == 0 and year % 100 != 0) or (year % 400 == 0):\n",
    "        print(\"That's a leap year!\")\n",
    "    else:\n",
    "        print(\"That's not a leap year.\")\n",
    "\n",
    "# Run the program\n",
    "check_leap_year()"
   ]
  },
  {
   "cell_type": "code",
   "execution_count": 7,
   "id": "c6752039-9d00-4b17-9fa9-028a6aa99322",
   "metadata": {},
   "outputs": [
    {
     "name": "stdin",
     "output_type": "stream",
     "text": [
      "Enter a year:  2025\n"
     ]
    },
    {
     "name": "stdout",
     "output_type": "stream",
     "text": [
      "That's not a leap year.\n"
     ]
    }
   ],
   "source": [
    "def check_leap_year():\n",
    "    # Get the year from the user\n",
    "    year = int(input(\"Enter a year: \"))\n",
    "\n",
    "    # Check if the year is a leap year using the provided criteria\n",
    "    if (year % 4 == 0 and year % 100 != 0) or (year % 400 == 0):\n",
    "        print(\"That's a leap year!\")\n",
    "    else:\n",
    "        print(\"That's not a leap year.\")\n",
    "\n",
    "# Run the program\n",
    "check_leap_year()"
   ]
  },
  {
   "cell_type": "code",
   "execution_count": null,
   "id": "a302c25d-13f0-4803-b005-dbd18b589c3b",
   "metadata": {},
   "outputs": [],
   "source": []
  }
 ],
 "metadata": {
  "kernelspec": {
   "display_name": "Python 3 (ipykernel)",
   "language": "python",
   "name": "python3"
  },
  "language_info": {
   "codemirror_mode": {
    "name": "ipython",
    "version": 3
   },
   "file_extension": ".py",
   "mimetype": "text/x-python",
   "name": "python",
   "nbconvert_exporter": "python",
   "pygments_lexer": "ipython3",
   "version": "3.12.7"
  }
 },
 "nbformat": 4,
 "nbformat_minor": 5
}
