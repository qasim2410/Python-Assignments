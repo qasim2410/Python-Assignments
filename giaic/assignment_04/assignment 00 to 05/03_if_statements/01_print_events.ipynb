{
 "cells": [
  {
   "cell_type": "raw",
   "id": "e1b78b6f-aafd-4ff2-be33-303081f6f5fc",
   "metadata": {},
   "source": [
    "Write a program that prints the first 20 even numbers. There are several correct approaches, but they all use a loop of some sort. Do no write twenty print statements\n",
    "\n",
    "The first even number is 0:\n",
    "\n",
    "0 2 4 6 8 10 12 14 16 18 20 22 24 26 28 30 32 34 36 38"
   ]
  },
  {
   "cell_type": "code",
   "execution_count": 1,
   "id": "f78d9df9-bccb-48f1-b99e-b02ff52985fb",
   "metadata": {},
   "outputs": [
    {
     "name": "stdout",
     "output_type": "stream",
     "text": [
      "0 2 4 6 8 10 12 14 16 18 20 22 24 26 28 30 32 34 36 38 "
     ]
    }
   ],
   "source": [
    "def print_even_numbers():\n",
    "    count = 0  # how many even numbers printed so far\n",
    "    number = 0  # starting number\n",
    "\n",
    "    while count < 20:\n",
    "        print(number, end=\" \")\n",
    "        number += 2\n",
    "        count += 1\n",
    "\n",
    "# Run the program\n",
    "print_even_numbers()"
   ]
  },
  {
   "cell_type": "code",
   "execution_count": null,
   "id": "21864454-22d3-4e56-bb30-e67d584e7510",
   "metadata": {},
   "outputs": [],
   "source": []
  }
 ],
 "metadata": {
  "kernelspec": {
   "display_name": "Python 3 (ipykernel)",
   "language": "python",
   "name": "python3"
  },
  "language_info": {
   "codemirror_mode": {
    "name": "ipython",
    "version": 3
   },
   "file_extension": ".py",
   "mimetype": "text/x-python",
   "name": "python",
   "nbconvert_exporter": "python",
   "pygments_lexer": "ipython3",
   "version": "3.12.7"
  }
 },
 "nbformat": 4,
 "nbformat_minor": 5
}
