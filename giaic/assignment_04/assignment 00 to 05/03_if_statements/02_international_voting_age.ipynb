{
 "cells": [
  {
   "cell_type": "raw",
   "id": "4f8b794a-7a3f-42ad-b7c8-4bb9203d6921",
   "metadata": {},
   "source": [
    "Write a program which asks a user for their age and lets them know if they can or can't vote in the following three fictional countries.\n",
    "\n",
    "Around the world, different countries have different voting ages. In the fictional countries of Peturksbouipo, Stanlau, and Mayengua, the voting ages are very different:\n",
    "\n",
    "the voting age in Peturksbouipo is 16 (in real life, this is the voting age in, for example, Scotland, Ethiopia, and Austria)\n",
    "\n",
    "the voting age in Stanlau is 25 (in real life this is the voting age in the United Arab Emirates)\n",
    "\n",
    "the voting age in Mayengua is 48 (in real life, as far as we can tell, this isn't the voting age anywhere)\n",
    "\n",
    "Your code should prompt the for their age and print whether or not they can vote in Peturksbouipo, Stanlau, or Mayengua.\n",
    "\n",
    "Here's a sample run of the program (user input is in blue):\n",
    "\n",
    "How old are you? 20 You can vote in Peturksbouipo where the voting age is 16. You cannot vote in Stanlau where the voting age is 25. You cannot vote in Mayengua where the voting age is 48."
   ]
  },
  {
   "cell_type": "code",
   "execution_count": 1,
   "id": "341ab874-0a40-4d27-bf0b-eac7191c4b21",
   "metadata": {},
   "outputs": [
    {
     "name": "stdin",
     "output_type": "stream",
     "text": [
      "How old are you?  21\n"
     ]
    },
    {
     "name": "stdout",
     "output_type": "stream",
     "text": [
      "You can vote in Peturksbouipo where the voting age is 16.\n",
      "You cannot vote in Stanlau where the voting age is 25.\n",
      "You cannot vote in Mayengua where the voting age is 48.\n"
     ]
    }
   ],
   "source": [
    "def main():\n",
    "    # Ask the user for their age\n",
    "    age = int(input(\"How old are you? \"))\n",
    "\n",
    "    # Check voting eligibility in each fictional country\n",
    "    if age >= 16:\n",
    "        print(\"You can vote in Peturksbouipo where the voting age is 16.\")\n",
    "    else:\n",
    "        print(\"You cannot vote in Peturksbouipo where the voting age is 16.\")\n",
    "\n",
    "    if age >= 25:\n",
    "        print(\"You can vote in Stanlau where the voting age is 25.\")\n",
    "    else:\n",
    "        print(\"You cannot vote in Stanlau where the voting age is 25.\")\n",
    "\n",
    "    if age >= 48:\n",
    "        print(\"You can vote in Mayengua where the voting age is 48.\")\n",
    "    else:\n",
    "        print(\"You cannot vote in Mayengua where the voting age is 48.\")\n",
    "\n",
    "# Run the program\n",
    "main()"
   ]
  },
  {
   "cell_type": "code",
   "execution_count": null,
   "id": "2df5e3bb-2f26-4a54-bca8-c6f40716b8b7",
   "metadata": {},
   "outputs": [],
   "source": []
  }
 ],
 "metadata": {
  "kernelspec": {
   "display_name": "Python 3 (ipykernel)",
   "language": "python",
   "name": "python3"
  },
  "language_info": {
   "codemirror_mode": {
    "name": "ipython",
    "version": 3
   },
   "file_extension": ".py",
   "mimetype": "text/x-python",
   "name": "python",
   "nbconvert_exporter": "python",
   "pygments_lexer": "ipython3",
   "version": "3.12.7"
  }
 },
 "nbformat": 4,
 "nbformat_minor": 5
}
